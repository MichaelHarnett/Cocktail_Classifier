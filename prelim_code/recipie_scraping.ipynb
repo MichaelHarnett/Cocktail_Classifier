{
 "cells": [
  {
   "cell_type": "code",
   "execution_count": 1,
   "id": "4a593717-eed4-44df-92e5-d8e2e8520554",
   "metadata": {},
   "outputs": [],
   "source": [
    "import numpy as np\n",
    "import pandas as pd\n",
    "from bs4 import BeautifulSoup\n",
    "import requests"
   ]
  },
  {
   "cell_type": "code",
   "execution_count": 2,
   "id": "e459c746-db05-4ff7-818b-25f8e9d835aa",
   "metadata": {},
   "outputs": [],
   "source": [
    "response = requests.get('https://www.thecocktaildb.com/api/json/v1/1/search.php?s=margarita')"
   ]
  },
  {
   "cell_type": "code",
   "execution_count": 3,
   "id": "4ee6a246-38af-4e3a-8d59-7d7512cbafa5",
   "metadata": {},
   "outputs": [
    {
     "data": {
      "text/plain": [
       "<Response [200]>"
      ]
     },
     "execution_count": 3,
     "metadata": {},
     "output_type": "execute_result"
    }
   ],
   "source": [
    "response"
   ]
  },
  {
   "cell_type": "code",
   "execution_count": 4,
   "id": "ee1d5338-1751-48a8-80ca-aa0cb9f9c102",
   "metadata": {},
   "outputs": [],
   "source": [
    "#page = BeautifulSoup(response.text, 'html5')"
   ]
  },
  {
   "cell_type": "code",
   "execution_count": 5,
   "id": "9c609e24-4d94-4be4-95d8-7d1df63f95a2",
   "metadata": {},
   "outputs": [],
   "source": [
    "page = response.json()"
   ]
  },
  {
   "cell_type": "code",
   "execution_count": 6,
   "id": "3a4e615d-d0df-4ef8-9065-930e59823262",
   "metadata": {},
   "outputs": [
    {
     "data": {
      "text/plain": [
       "'Margarita'"
      ]
     },
     "execution_count": 6,
     "metadata": {},
     "output_type": "execute_result"
    }
   ],
   "source": [
    "#name of drink\n",
    "page['drinks'][0]['strDrink']"
   ]
  },
  {
   "cell_type": "code",
   "execution_count": 7,
   "id": "eb85e553-7f0a-4cd1-9056-dfb36c813459",
   "metadata": {},
   "outputs": [
    {
     "data": {
      "text/plain": [
       "'11007'"
      ]
     },
     "execution_count": 7,
     "metadata": {},
     "output_type": "execute_result"
    }
   ],
   "source": [
    "#found drink id\n",
    "drink_id = page['drinks'][0]['idDrink']\n",
    "drink_id"
   ]
  },
  {
   "cell_type": "markdown",
   "id": "5780b069-5f20-40b4-b000-70006ba837b6",
   "metadata": {},
   "source": [
    "# Lots of information on generic pull\n",
    "testing if id specific pull has better information"
   ]
  },
  {
   "cell_type": "code",
   "execution_count": 8,
   "id": "99663a34-df91-4c64-a20d-ac21d9fb4f57",
   "metadata": {},
   "outputs": [],
   "source": [
    "response = requests.get('https://www.thecocktaildb.com/api/json/v1/1/lookup.php?i={}'.format(drink_id))"
   ]
  },
  {
   "cell_type": "markdown",
   "id": "c9f20ded-26ab-4f66-b9c9-bfa92904b520",
   "metadata": {},
   "source": [
    "page = response.json()\n",
    "page"
   ]
  },
  {
   "cell_type": "markdown",
   "id": "38d32aad-1012-4c5f-bcc2-2c4b144bee13",
   "metadata": {},
   "source": [
    "# Unfortunately it is exactly the same\n",
    "at least I do not need to scrape twice once for ids and once for ingredients"
   ]
  },
  {
   "cell_type": "code",
   "execution_count": 9,
   "id": "0f918069-c3ff-4556-b5e1-b03b5f1755a5",
   "metadata": {},
   "outputs": [
    {
     "data": {
      "text/plain": [
       "'Irish whiskey'"
      ]
     },
     "execution_count": 9,
     "metadata": {},
     "output_type": "execute_result"
    }
   ],
   "source": [
    "response = requests.get('https://www.thecocktaildb.com/api/json/v1/1/search.php?s=irish_coffee')\n",
    "page = response.json()\n",
    "page['drinks'][0]['strIngredient1']"
   ]
  },
  {
   "cell_type": "code",
   "execution_count": 10,
   "id": "063f61f7-3b8c-42dc-8a71-c54758539857",
   "metadata": {},
   "outputs": [
    {
     "data": {
      "text/plain": [
       "'Irish Coffee'"
      ]
     },
     "execution_count": 10,
     "metadata": {},
     "output_type": "execute_result"
    }
   ],
   "source": [
    "page['drinks'][0]['strDrink']"
   ]
  },
  {
   "cell_type": "code",
   "execution_count": 11,
   "id": "97b85bcb-dd8d-4ba6-80f4-7d5196e865e3",
   "metadata": {},
   "outputs": [
    {
     "data": {
      "text/plain": [
       "{'idDrink': '13971',\n",
       " 'strDrink': 'Irish Coffee',\n",
       " 'strDrinkAlternate': None,\n",
       " 'strTags': 'IBA,ContemporaryClassic',\n",
       " 'strVideo': None,\n",
       " 'strCategory': 'Coffee / Tea',\n",
       " 'strIBA': 'Contemporary Classics',\n",
       " 'strAlcoholic': 'Alcoholic',\n",
       " 'strGlass': 'Irish coffee cup',\n",
       " 'strInstructions': 'Heat the coffee, whiskey and sugar; do not boil. Pour into glass and top with cream; serve hot.',\n",
       " 'strInstructionsES': None,\n",
       " 'strInstructionsDE': 'Kaffee, Whiskey und Zucker erhitzen; nicht kochen lassen. In ein Glas geben und mit Sahne übergießen; heiß servieren.',\n",
       " 'strInstructionsFR': None,\n",
       " 'strInstructionsIT': 'Riscaldare il caffè, il whisky e lo zucchero; non bollire. Versare nel bicchiere e ricoprire con la panna; servito caldo.',\n",
       " 'strInstructionsZH-HANS': None,\n",
       " 'strInstructionsZH-HANT': None,\n",
       " 'strDrinkThumb': 'https://www.thecocktaildb.com/images/media/drink/sywsqw1439906999.jpg',\n",
       " 'strIngredient1': 'Irish whiskey',\n",
       " 'strIngredient2': 'Coffee',\n",
       " 'strIngredient3': 'Sugar',\n",
       " 'strIngredient4': 'Whipped cream',\n",
       " 'strIngredient5': None,\n",
       " 'strIngredient6': None,\n",
       " 'strIngredient7': None,\n",
       " 'strIngredient8': None,\n",
       " 'strIngredient9': None,\n",
       " 'strIngredient10': None,\n",
       " 'strIngredient11': None,\n",
       " 'strIngredient12': None,\n",
       " 'strIngredient13': None,\n",
       " 'strIngredient14': None,\n",
       " 'strIngredient15': None,\n",
       " 'strMeasure1': '1 1/2 oz ',\n",
       " 'strMeasure2': '8 oz ',\n",
       " 'strMeasure3': '1 tsp ',\n",
       " 'strMeasure4': '1 tblsp ',\n",
       " 'strMeasure5': None,\n",
       " 'strMeasure6': None,\n",
       " 'strMeasure7': None,\n",
       " 'strMeasure8': None,\n",
       " 'strMeasure9': None,\n",
       " 'strMeasure10': None,\n",
       " 'strMeasure11': None,\n",
       " 'strMeasure12': None,\n",
       " 'strMeasure13': None,\n",
       " 'strMeasure14': None,\n",
       " 'strMeasure15': None,\n",
       " 'strImageSource': None,\n",
       " 'strImageAttribution': None,\n",
       " 'strCreativeCommonsConfirmed': 'No',\n",
       " 'dateModified': '2015-08-18 15:09:59'}"
      ]
     },
     "execution_count": 11,
     "metadata": {},
     "output_type": "execute_result"
    }
   ],
   "source": [
    "page['drinks'][0]"
   ]
  },
  {
   "cell_type": "code",
   "execution_count": 12,
   "id": "3fa4824e-7009-4622-a195-4ec5e7bc1a74",
   "metadata": {},
   "outputs": [],
   "source": [
    "#each pull has 15 ingredient slots, starting at 1\n",
    "\n",
    "ngredients = []\n",
    "for i in range(1,16):\n",
    "    item = page['drinks'][0]['strIngredient{}'.format(i)]\n",
    "    if item is not None:\n",
    "        ingredients.append(item)\n",
    "        "
   ]
  },
  {
   "cell_type": "code",
   "execution_count": 13,
   "id": "7f9f9b9f-122b-4141-823f-7cf69bd21002",
   "metadata": {},
   "outputs": [
    {
     "data": {
      "text/plain": [
       "['Irish whiskey', 'Coffee', 'Sugar', 'Whipped cream']"
      ]
     },
     "execution_count": 13,
     "metadata": {},
     "output_type": "execute_result"
    }
   ],
   "source": [
    "ingredients"
   ]
  },
  {
   "cell_type": "code",
   "execution_count": 14,
   "id": "a8f93b26-19e2-48de-9137-3bca40c3f139",
   "metadata": {},
   "outputs": [
    {
     "data": {
      "text/plain": [
       "'Heat the coffee, whiskey and sugar; do not boil. Pour into glass and top with cream; serve hot.'"
      ]
     },
     "execution_count": 14,
     "metadata": {},
     "output_type": "execute_result"
    }
   ],
   "source": [
    "# even instructions how to make them!\n",
    "instructions = page['drinks'][0]['strInstructions']\n",
    "instructions"
   ]
  },
  {
   "cell_type": "code",
   "execution_count": 22,
   "id": "c91b360f-0520-452f-86e4-d212a1f90cb4",
   "metadata": {},
   "outputs": [],
   "source": [
    "#list of all cocktails I'm starting with\n",
    "cocktail_list = ['cosmopolitan', 'margarita', 'mojito', 'old_fashioned', 'pina_colada',\n",
    "                'irish_coffee', 'moscow_mule', 'mimosa', 'aperol_spritz', 'bloody_mary']\n",
    "\n",
    "cocktail_dict ={}\n",
    "\n",
    "for items in cocktail_list:\n",
    "    response = requests.get('https://www.thecocktaildb.com/api/json/v1/1/search.php?s={}'.format(items))\n",
    "    page = response.json()\n",
    "    \n",
    "#     if items != page['drinks'][0]['strDrink']:\n",
    "#         raise ValueError('Cocktals do not Match')\n",
    "\n",
    "    #including cocktail name to save time on reseting index and reformatting the names to match the pictures\n",
    "    cocktail = page['drinks'][0]['strDrink']\n",
    "    \n",
    "    ingredients = []\n",
    "    for i in range(1,16):\n",
    "        item = page['drinks'][0]['strIngredient{}'.format(i)]\n",
    "        if item is not None:\n",
    "            ingredients.append(item)\n",
    "            \n",
    "    instructions = page['drinks'][0]['strInstructions']\n",
    "    \n",
    "    cocktail_dict[items] = (cocktail, ingredients, instructions)\n",
    "        \n",
    "    "
   ]
  },
  {
   "cell_type": "code",
   "execution_count": 23,
   "id": "a9d4e35f-06c8-4d0b-b353-82f4164a09b2",
   "metadata": {},
   "outputs": [
    {
     "data": {
      "text/plain": [
       "{'cosmopolitan': ('Cosmopolitan',\n",
       "  ['Absolut Citron', 'Lime juice', 'Cointreau', 'Cranberry juice'],\n",
       "  'Add all ingredients into cocktail shaker filled with ice. Shake well and double strain into large cocktail glass. Garnish with lime wheel.'),\n",
       " 'margarita': ('Margarita',\n",
       "  ['Tequila', 'Triple sec', 'Lime juice', 'Salt'],\n",
       "  'Rub the rim of the glass with the lime slice to make the salt stick to it. Take care to moisten only the outer rim and sprinkle the salt on it. The salt should present to the lips of the imbiber and never mix into the cocktail. Shake the other ingredients with ice, then carefully pour into the glass.'),\n",
       " 'mojito': ('Mojito',\n",
       "  ['Light rum', 'Lime', 'Sugar', 'Mint', 'Soda water'],\n",
       "  'Muddle mint leaves with sugar and lime juice. Add a splash of soda water and fill the glass with cracked ice. Pour the rum and top with soda water. Garnish and serve with straw.'),\n",
       " 'old_fashioned': ('Old Fashioned',\n",
       "  ['Bourbon', 'Angostura bitters', 'Sugar', 'Water'],\n",
       "  'Place sugar cube in old fashioned glass and saturate with bitters, add a dash of plain water. Muddle until dissolved.\\r\\nFill the glass with ice cubes and add whiskey.\\r\\n\\r\\nGarnish with orange twist, and a cocktail cherry.'),\n",
       " 'pina_colada': ('Pina Colada',\n",
       "  ['Light rum', 'Coconut milk', 'Pineapple'],\n",
       "  'Mix with crushed ice in blender until smooth. Pour into chilled glass, garnish and serve.'),\n",
       " 'irish_coffee': ('Irish Coffee',\n",
       "  ['Irish whiskey', 'Coffee', 'Sugar', 'Whipped cream'],\n",
       "  'Heat the coffee, whiskey and sugar; do not boil. Pour into glass and top with cream; serve hot.'),\n",
       " 'moscow_mule': ('Moscow Mule',\n",
       "  ['Vodka', 'Lime juice', 'Ginger ale'],\n",
       "  'Combine vodka and ginger beer in a highball glass filled with ice. Add lime juice. Stir gently. Garnish.'),\n",
       " 'mimosa': ('Mimosa',\n",
       "  ['Champagne', 'Orange juice'],\n",
       "  'Ensure both ingredients are well chilled, then mix into the glass. Serve cold.'),\n",
       " 'aperol_spritz': ('Aperol Spritz',\n",
       "  ['Aperol', 'Prosecco', 'Soda Water', '', '', '', ''],\n",
       "  'Put a couple of cubes of ice into 2 glasses and add a 50 ml measure of Aperol to each. Divide the prosecco between the glasses and then top up with soda, if you like.'),\n",
       " 'bloody_mary': ('Bloody Mary',\n",
       "  ['Vodka',\n",
       "   'Tomato juice',\n",
       "   'Lemon juice',\n",
       "   'Worcestershire sauce',\n",
       "   'Tabasco sauce',\n",
       "   'Lime'],\n",
       "  'Stirring gently, pour all ingredients into highball glass. Garnish.')}"
      ]
     },
     "execution_count": 23,
     "metadata": {},
     "output_type": "execute_result"
    }
   ],
   "source": [
    "cocktail_dict"
   ]
  },
  {
   "cell_type": "code",
   "execution_count": 17,
   "id": "f3e7ee82-4ce7-4445-b73d-4d06ce80ef7d",
   "metadata": {},
   "outputs": [
    {
     "data": {
      "text/plain": [
       "(['Absolut Citron', 'Lime juice', 'Cointreau', 'Cranberry juice'],\n",
       " 'Add all ingredients into cocktail shaker filled with ice. Shake well and double strain into large cocktail glass. Garnish with lime wheel.')"
      ]
     },
     "execution_count": 17,
     "metadata": {},
     "output_type": "execute_result"
    }
   ],
   "source": [
    "cocktail_dict['cosmopolitan']"
   ]
  },
  {
   "cell_type": "code",
   "execution_count": 24,
   "id": "4d68b7d5-245f-41f5-8ffd-6c615d2e6402",
   "metadata": {},
   "outputs": [],
   "source": [
    "df = pd.DataFrame(cocktail_dict).T"
   ]
  },
  {
   "cell_type": "code",
   "execution_count": 29,
   "id": "dce2b427-d36a-47a1-9829-09ef2be8b514",
   "metadata": {},
   "outputs": [],
   "source": [
    "df.columns = ['cocktail', 'ingredients', 'recipie']"
   ]
  },
  {
   "cell_type": "code",
   "execution_count": 27,
   "id": "18cdf39d-cb8a-4bca-8eb3-806d5a6bed61",
   "metadata": {},
   "outputs": [
    {
     "data": {
      "text/html": [
       "<div>\n",
       "<style scoped>\n",
       "    .dataframe tbody tr th:only-of-type {\n",
       "        vertical-align: middle;\n",
       "    }\n",
       "\n",
       "    .dataframe tbody tr th {\n",
       "        vertical-align: top;\n",
       "    }\n",
       "\n",
       "    .dataframe thead th {\n",
       "        text-align: right;\n",
       "    }\n",
       "</style>\n",
       "<table border=\"1\" class=\"dataframe\">\n",
       "  <thead>\n",
       "    <tr style=\"text-align: right;\">\n",
       "      <th></th>\n",
       "      <th>coctail</th>\n",
       "      <th>ingredients</th>\n",
       "      <th>recipie</th>\n",
       "    </tr>\n",
       "  </thead>\n",
       "  <tbody>\n",
       "    <tr>\n",
       "      <th>cosmopolitan</th>\n",
       "      <td>Cosmopolitan</td>\n",
       "      <td>[Absolut Citron, Lime juice, Cointreau, Cranbe...</td>\n",
       "      <td>Add all ingredients into cocktail shaker fille...</td>\n",
       "    </tr>\n",
       "    <tr>\n",
       "      <th>margarita</th>\n",
       "      <td>Margarita</td>\n",
       "      <td>[Tequila, Triple sec, Lime juice, Salt]</td>\n",
       "      <td>Rub the rim of the glass with the lime slice t...</td>\n",
       "    </tr>\n",
       "    <tr>\n",
       "      <th>mojito</th>\n",
       "      <td>Mojito</td>\n",
       "      <td>[Light rum, Lime, Sugar, Mint, Soda water]</td>\n",
       "      <td>Muddle mint leaves with sugar and lime juice. ...</td>\n",
       "    </tr>\n",
       "    <tr>\n",
       "      <th>old_fashioned</th>\n",
       "      <td>Old Fashioned</td>\n",
       "      <td>[Bourbon, Angostura bitters, Sugar, Water]</td>\n",
       "      <td>Place sugar cube in old fashioned glass and sa...</td>\n",
       "    </tr>\n",
       "    <tr>\n",
       "      <th>pina_colada</th>\n",
       "      <td>Pina Colada</td>\n",
       "      <td>[Light rum, Coconut milk, Pineapple]</td>\n",
       "      <td>Mix with crushed ice in blender until smooth. ...</td>\n",
       "    </tr>\n",
       "    <tr>\n",
       "      <th>irish_coffee</th>\n",
       "      <td>Irish Coffee</td>\n",
       "      <td>[Irish whiskey, Coffee, Sugar, Whipped cream]</td>\n",
       "      <td>Heat the coffee, whiskey and sugar; do not boi...</td>\n",
       "    </tr>\n",
       "    <tr>\n",
       "      <th>moscow_mule</th>\n",
       "      <td>Moscow Mule</td>\n",
       "      <td>[Vodka, Lime juice, Ginger ale]</td>\n",
       "      <td>Combine vodka and ginger beer in a highball gl...</td>\n",
       "    </tr>\n",
       "    <tr>\n",
       "      <th>mimosa</th>\n",
       "      <td>Mimosa</td>\n",
       "      <td>[Champagne, Orange juice]</td>\n",
       "      <td>Ensure both ingredients are well chilled, then...</td>\n",
       "    </tr>\n",
       "    <tr>\n",
       "      <th>aperol_spritz</th>\n",
       "      <td>Aperol Spritz</td>\n",
       "      <td>[Aperol, Prosecco, Soda Water, , , , ]</td>\n",
       "      <td>Put a couple of cubes of ice into 2 glasses an...</td>\n",
       "    </tr>\n",
       "    <tr>\n",
       "      <th>bloody_mary</th>\n",
       "      <td>Bloody Mary</td>\n",
       "      <td>[Vodka, Tomato juice, Lemon juice, Worcestersh...</td>\n",
       "      <td>Stirring gently, pour all ingredients into hig...</td>\n",
       "    </tr>\n",
       "  </tbody>\n",
       "</table>\n",
       "</div>"
      ],
      "text/plain": [
       "                     coctail  \\\n",
       "cosmopolitan    Cosmopolitan   \n",
       "margarita          Margarita   \n",
       "mojito                Mojito   \n",
       "old_fashioned  Old Fashioned   \n",
       "pina_colada      Pina Colada   \n",
       "irish_coffee    Irish Coffee   \n",
       "moscow_mule      Moscow Mule   \n",
       "mimosa                Mimosa   \n",
       "aperol_spritz  Aperol Spritz   \n",
       "bloody_mary      Bloody Mary   \n",
       "\n",
       "                                                     ingredients  \\\n",
       "cosmopolitan   [Absolut Citron, Lime juice, Cointreau, Cranbe...   \n",
       "margarita                [Tequila, Triple sec, Lime juice, Salt]   \n",
       "mojito                [Light rum, Lime, Sugar, Mint, Soda water]   \n",
       "old_fashioned         [Bourbon, Angostura bitters, Sugar, Water]   \n",
       "pina_colada                 [Light rum, Coconut milk, Pineapple]   \n",
       "irish_coffee       [Irish whiskey, Coffee, Sugar, Whipped cream]   \n",
       "moscow_mule                      [Vodka, Lime juice, Ginger ale]   \n",
       "mimosa                                 [Champagne, Orange juice]   \n",
       "aperol_spritz             [Aperol, Prosecco, Soda Water, , , , ]   \n",
       "bloody_mary    [Vodka, Tomato juice, Lemon juice, Worcestersh...   \n",
       "\n",
       "                                                         recipie  \n",
       "cosmopolitan   Add all ingredients into cocktail shaker fille...  \n",
       "margarita      Rub the rim of the glass with the lime slice t...  \n",
       "mojito         Muddle mint leaves with sugar and lime juice. ...  \n",
       "old_fashioned  Place sugar cube in old fashioned glass and sa...  \n",
       "pina_colada    Mix with crushed ice in blender until smooth. ...  \n",
       "irish_coffee   Heat the coffee, whiskey and sugar; do not boi...  \n",
       "moscow_mule    Combine vodka and ginger beer in a highball gl...  \n",
       "mimosa         Ensure both ingredients are well chilled, then...  \n",
       "aperol_spritz  Put a couple of cubes of ice into 2 glasses an...  \n",
       "bloody_mary    Stirring gently, pour all ingredients into hig...  "
      ]
     },
     "execution_count": 27,
     "metadata": {},
     "output_type": "execute_result"
    }
   ],
   "source": [
    "df"
   ]
  },
  {
   "cell_type": "code",
   "execution_count": 30,
   "id": "87f73bed-5229-4a4d-8dc0-8f586e36f327",
   "metadata": {},
   "outputs": [],
   "source": [
    "# saving dataframe to transfer to another notebook\n",
    "df.to_csv(r'/users/michaelharnett/desktop/metis/projects/cocktail_classifier/data/recipie_df.csv', index=False)"
   ]
  },
  {
   "cell_type": "code",
   "execution_count": null,
   "id": "7f67fc7a-04e1-4062-b08d-732068a6da0c",
   "metadata": {},
   "outputs": [],
   "source": []
  }
 ],
 "metadata": {
  "kernelspec": {
   "display_name": "Python [conda env:metis] *",
   "language": "python",
   "name": "conda-env-metis-py"
  },
  "language_info": {
   "codemirror_mode": {
    "name": "ipython",
    "version": 3
   },
   "file_extension": ".py",
   "mimetype": "text/x-python",
   "name": "python",
   "nbconvert_exporter": "python",
   "pygments_lexer": "ipython3",
   "version": "3.8.10"
  }
 },
 "nbformat": 4,
 "nbformat_minor": 5
}
