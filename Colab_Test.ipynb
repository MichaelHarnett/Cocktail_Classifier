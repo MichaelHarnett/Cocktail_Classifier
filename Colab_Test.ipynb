{
  "nbformat": 4,
  "nbformat_minor": 0,
  "metadata": {
    "colab": {
      "name": "Colab_Test.ipynb",
      "provenance": [],
      "collapsed_sections": []
    },
    "kernelspec": {
      "name": "python3",
      "display_name": "Python 3"
    },
    "language_info": {
      "name": "python"
    },
    "accelerator": "GPU"
  },
  "cells": [
    {
      "cell_type": "code",
      "metadata": {
        "colab": {
          "base_uri": "https://localhost:8080/"
        },
        "id": "6UuSlIq5f5Bh",
        "outputId": "5d2df847-16b4-4a7e-91d8-c7b3f567f8e1"
      },
      "source": [
        "from google.colab import drive\n",
        "drive.mount('/content/drive')"
      ],
      "execution_count": null,
      "outputs": [
        {
          "output_type": "stream",
          "text": [
            "Drive already mounted at /content/drive; to attempt to forcibly remount, call drive.mount(\"/content/drive\", force_remount=True).\n"
          ],
          "name": "stdout"
        }
      ]
    },
    {
      "cell_type": "code",
      "metadata": {
        "id": "oPFYHG4Jgc9H"
      },
      "source": [
        "!unzip -uq /content/drive/MyDrive/cocktail_classifier/Data.zip"
      ],
      "execution_count": 3,
      "outputs": []
    },
    {
      "cell_type": "code",
      "metadata": {
        "id": "QBT2aA5PhjzI"
      },
      "source": [
        "import numpy as np \n",
        "import pandas as pd\n",
        "import tensorflow as tf\n",
        "from tensorflow import keras\n",
        "from keras import preprocessing, layers\n",
        "from keras.preprocessing.image import image_dataset_from_directory, ImageDataGenerator\n",
        "from keras.callbacks import History\n",
        "from keras.models import Sequential\n",
        "from keras.layers import Dense, Conv2D, MaxPooling2D, Flatten, GlobalAveragePooling2D, InputLayer, Dropout, AveragePooling2D, experimental\n",
        "import matplotlib\n",
        "import matplotlib.pyplot as plt\n",
        "\n"
      ],
      "execution_count": 19,
      "outputs": []
    },
    {
      "cell_type": "code",
      "metadata": {
        "colab": {
          "base_uri": "https://localhost:8080/"
        },
        "id": "x3PeesTLnKe-",
        "outputId": "315b882f-e76d-4872-f465-3ade20560420"
      },
      "source": [
        "#I was using this method for most of the notebooks, but found flow was much\n",
        "# easier to add augmentation with.\n",
        "\n",
        "\n",
        "\n",
        "\n",
        "# traindf = keras.preprocessing.image_dataset_from_directory(\n",
        "#     '/content/Data/Train Data',\n",
        "#     labels = 'inferred',\n",
        "#     label_mode = 'categorical',\n",
        "#     #class_names = ['Cosmo','Margarita','Mojito'],\n",
        "#     seed = 7,\n",
        "#     validation_split = .2,\n",
        "#     batch_size = 16,\n",
        "#     subset = 'training')\n",
        "\n",
        "# valdf = keras.preprocessing.image_dataset_from_directory(\n",
        "#     '/content/Data/Train Data',\n",
        "#     labels = 'inferred',\n",
        "#     label_mode = 'categorical',\n",
        "#     #class_names = ['Cosmo','Margarita','Mojito'],\n",
        "#     seed = 7,\n",
        "#     validation_split = .2,\n",
        "#     batch_size = 16,\n",
        "#     subset = 'validation')\n",
        "\n",
        "\n"
      ],
      "execution_count": null,
      "outputs": [
        {
          "output_type": "stream",
          "text": [
            "Found 3643 files belonging to 10 classes.\n",
            "Using 2915 files for training.\n",
            "Found 3643 files belonging to 10 classes.\n",
            "Using 728 files for validation.\n"
          ],
          "name": "stdout"
        }
      ]
    },
    {
      "cell_type": "code",
      "metadata": {
        "colab": {
          "base_uri": "https://localhost:8080/"
        },
        "id": "vs_vszfx_hn9",
        "outputId": "88c3b012-f345-485a-901c-9d1d31fe375f"
      },
      "source": [
        "# testdf = keras.preprocessing.image_dataset_from_directory(\n",
        "#     '/content/Data/Test Data',\n",
        "#     labels = 'inferred',\n",
        "#     label_mode = 'categorical',\n",
        "#     #class_names\n",
        "    \n",
        "# )\n"
      ],
      "execution_count": null,
      "outputs": [
        {
          "output_type": "stream",
          "text": [
            "Found 499 files belonging to 10 classes.\n"
          ],
          "name": "stdout"
        }
      ]
    },
    {
      "cell_type": "code",
      "metadata": {
        "colab": {
          "base_uri": "https://localhost:8080/"
        },
        "id": "0bwCtjNSnfPq",
        "outputId": "3a838440-656f-4897-cba2-c67a6f8d991f"
      },
      "source": [
        "train_generator = keras.preprocessing.image.ImageDataGenerator(\n",
        "    rotation_range = 2,\n",
        "    width_shift_range = 2,\n",
        "    height_shift_range = 2,\n",
        "    zoom_range = .3,\n",
        "    horizontal_flip = True,\n",
        "    vertical_flip = False,\n",
        "    data_format = 'channels_last',\n",
        "    validation_split = .2\n",
        ")\n",
        "\n",
        "val_generator = keras.preprocessing.image.ImageDataGenerator(\n",
        "    data_format = 'channels_last',\n",
        "    validation_split = .2\n",
        ")\n",
        "\n",
        "\n",
        "class_list = [\n",
        " 'Aperol Spritz',\n",
        " 'Bloody Mary',\n",
        " 'Cosmo',\n",
        " 'Irish Coffee',\n",
        " 'Margarita',\n",
        " 'Mimosa',\n",
        " 'Mojito',\n",
        " 'Moscow Mule',\n",
        " 'Old Fashioned',\n",
        " 'Pina Colada']\n",
        "\n",
        "\n",
        "\n",
        "flow_traindf = train_generator.flow_from_directory(\n",
        "    '/content/Data/Train Data',\n",
        "    target_size = (256, 256),\n",
        "    color_mode = 'rgb',\n",
        "    classes = class_list,\n",
        "    class_mode = 'categorical',\n",
        "    batch_size = 16,\n",
        "    seed = 7,\n",
        "    subset = 'training'\n",
        ")\n",
        "\n",
        "\n",
        "flow_valdf = val_generator.flow_from_directory(\n",
        "    directory = '/content/Data/Train Data',\n",
        "    target_size = (256, 256),\n",
        "    color_mode = 'rgb',\n",
        "    classes = class_list,\n",
        "    class_mode = 'categorical',\n",
        "    batch_size = 16,\n",
        "    seed = 7,\n",
        "    subset = 'validation'\n",
        ")\n"
      ],
      "execution_count": 5,
      "outputs": [
        {
          "output_type": "stream",
          "text": [
            "Found 2918 images belonging to 10 classes.\n",
            "Found 725 images belonging to 10 classes.\n"
          ],
          "name": "stdout"
        }
      ]
    },
    {
      "cell_type": "code",
      "metadata": {
        "colab": {
          "base_uri": "https://localhost:8080/"
        },
        "id": "RC_-QYGA98d5",
        "outputId": "51290be2-577e-47cb-816a-b286e32d46c2"
      },
      "source": [
        "test_generator = keras.preprocessing.image.ImageDataGenerator(\n",
        "    data_format = 'channels_last'\n",
        ")\n",
        "\n",
        "flow_testdf = test_generator.flow_from_directory(\n",
        "    directory = '/content/Data/Test Data',\n",
        "    target_size = (256, 256),\n",
        "    color_mode = 'rgb',\n",
        "    classes = ['Aperol Test', 'Bloody Test', 'Cosmo Test', 'Irish Test', 'Margarita Test',\n",
        "               'Mimosa Test', 'Mojito Test', 'Mule Test', 'Fashioned Test', 'Pina Test'],\n",
        "    class_mode = 'categorical',\n",
        "    batch_size = 1,\n",
        "    shuffle = False,\n",
        "    #seed = 7,\n",
        "    #subset = 'validation'\n",
        ")\n"
      ],
      "execution_count": 24,
      "outputs": [
        {
          "output_type": "stream",
          "text": [
            "Found 449 images belonging to 10 classes.\n"
          ],
          "name": "stdout"
        }
      ]
    },
    {
      "cell_type": "markdown",
      "metadata": {
        "id": "HmCDw8SWoDeT"
      },
      "source": [
        "Running same test as last attempt in keras_prelim notebook, each epoch on local machine took about 30 minutes. Let's check here."
      ]
    },
    {
      "cell_type": "code",
      "metadata": {
        "colab": {
          "base_uri": "https://localhost:8080/"
        },
        "id": "3ceBUNweoS2Y",
        "outputId": "240b005a-63ff-4d8f-da9f-2706ecc9f18a"
      },
      "source": [
        "model = Sequential()\n",
        "\n",
        "model.add(InputLayer(input_shape = (256, 256, 3)))\n",
        "\n",
        "\n",
        "model.add(Conv2D(\n",
        "            filters=10,\n",
        "            kernel_size=3, \n",
        "            activation='relu', \n",
        "            padding='same'))\n",
        "\n",
        "#model.add(AveragePooling2D())\n",
        "\n",
        "model.add(Conv2D(\n",
        "            filters=20,\n",
        "            kernel_size=3, \n",
        "            activation='relu', \n",
        "            padding='same'))\n",
        "\n",
        "#model.add(AveragePooling2D())\n",
        "\n",
        "model.add(Conv2D(\n",
        "            filters=40,\n",
        "            kernel_size=3, \n",
        "            activation='relu', \n",
        "            padding='same'))\n",
        "\n",
        "#model.add(AveragePooling2D())\n",
        "\n",
        "model.add(Conv2D(\n",
        "            filters=60,\n",
        "            kernel_size=3, \n",
        "            activation='relu', \n",
        "            padding='same'))\n",
        "\n",
        "#model.add(AveragePooling2D())\n",
        "\n",
        "model.add(Conv2D(\n",
        "            filters=100,\n",
        "            kernel_size=3, \n",
        "            activation='relu', \n",
        "            padding='same'))\n",
        "\n",
        "#model.add(AveragePooling2D())\n",
        "\n",
        "\n",
        "model.add(GlobalAveragePooling2D())\n",
        "\n",
        "model.add(Dense(100, activation = 'relu'))\n",
        "\n",
        "model.add(Dense(80, activation = 'relu'))\n",
        "\n",
        "model.add(Dense(40, activation='relu'))\n",
        "\n",
        "model.add(Dense(20, activation = 'relu'))\n",
        "\n",
        "#model.add(Dropout(.20))\n",
        "\n",
        "model.add(Dense(10, activation='softmax'))  # 3 target classes\n",
        "\n",
        "model.compile(\n",
        "    loss='categorical_crossentropy',\n",
        "    optimizer='adam',\n",
        "    metrics=['accuracy'],\n",
        ")\n",
        "model.summary()\n",
        "\n",
        "model.fit(traindf, epochs=10, verbose=1, validation_data=valdf,\n",
        "       callbacks=[\n",
        "           keras.callbacks.ModelCheckpoint(\n",
        "               'models/mnist.{epoch:02d}-{val_loss:.2f}.hdf5',\n",
        "               save_best_only=True)\n",
        "       ])  # track progress as we fit"
      ],
      "execution_count": null,
      "outputs": [
        {
          "output_type": "stream",
          "text": [
            "Model: \"sequential\"\n",
            "_________________________________________________________________\n",
            "Layer (type)                 Output Shape              Param #   \n",
            "=================================================================\n",
            "conv2d (Conv2D)              (None, 256, 256, 10)      280       \n",
            "_________________________________________________________________\n",
            "conv2d_1 (Conv2D)            (None, 256, 256, 20)      1820      \n",
            "_________________________________________________________________\n",
            "conv2d_2 (Conv2D)            (None, 256, 256, 40)      7240      \n",
            "_________________________________________________________________\n",
            "conv2d_3 (Conv2D)            (None, 256, 256, 60)      21660     \n",
            "_________________________________________________________________\n",
            "conv2d_4 (Conv2D)            (None, 256, 256, 100)     54100     \n",
            "_________________________________________________________________\n",
            "global_average_pooling2d (Gl (None, 100)               0         \n",
            "_________________________________________________________________\n",
            "dense (Dense)                (None, 100)               10100     \n",
            "_________________________________________________________________\n",
            "dense_1 (Dense)              (None, 80)                8080      \n",
            "_________________________________________________________________\n",
            "dense_2 (Dense)              (None, 40)                3240      \n",
            "_________________________________________________________________\n",
            "dense_3 (Dense)              (None, 20)                820       \n",
            "_________________________________________________________________\n",
            "dense_4 (Dense)              (None, 10)                210       \n",
            "=================================================================\n",
            "Total params: 107,550\n",
            "Trainable params: 107,550\n",
            "Non-trainable params: 0\n",
            "_________________________________________________________________\n",
            "Epoch 1/10\n",
            "92/92 [==============================] - 89s 457ms/step - loss: 2.4444 - accuracy: 0.1108 - val_loss: 2.2979 - val_accuracy: 0.1291\n",
            "Epoch 2/10\n",
            "92/92 [==============================] - 39s 420ms/step - loss: 2.2977 - accuracy: 0.1243 - val_loss: 2.2886 - val_accuracy: 0.1511\n",
            "Epoch 3/10\n",
            "92/92 [==============================] - 40s 430ms/step - loss: 2.2807 - accuracy: 0.1529 - val_loss: 2.2157 - val_accuracy: 0.1964\n",
            "Epoch 4/10\n",
            "92/92 [==============================] - 40s 432ms/step - loss: 2.2277 - accuracy: 0.1742 - val_loss: 2.1311 - val_accuracy: 0.2473\n",
            "Epoch 5/10\n",
            "92/92 [==============================] - 40s 435ms/step - loss: 2.1323 - accuracy: 0.2264 - val_loss: 2.0721 - val_accuracy: 0.2747\n",
            "Epoch 6/10\n",
            "92/92 [==============================] - 40s 437ms/step - loss: 1.9935 - accuracy: 0.2679 - val_loss: 1.9375 - val_accuracy: 0.2734\n",
            "Epoch 7/10\n",
            "92/92 [==============================] - 41s 438ms/step - loss: 1.9412 - accuracy: 0.2993 - val_loss: 1.9764 - val_accuracy: 0.3091\n",
            "Epoch 8/10\n",
            "92/92 [==============================] - 41s 439ms/step - loss: 1.9225 - accuracy: 0.2922 - val_loss: 1.8350 - val_accuracy: 0.3132\n",
            "Epoch 9/10\n",
            "92/92 [==============================] - 41s 439ms/step - loss: 1.7931 - accuracy: 0.3632 - val_loss: 1.7762 - val_accuracy: 0.3791\n",
            "Epoch 10/10\n",
            "92/92 [==============================] - 41s 439ms/step - loss: 1.7280 - accuracy: 0.3956 - val_loss: 1.9467 - val_accuracy: 0.3489\n"
          ],
          "name": "stdout"
        },
        {
          "output_type": "execute_result",
          "data": {
            "text/plain": [
              "<keras.callbacks.History at 0x7f1d0897b850>"
            ]
          },
          "metadata": {
            "tags": []
          },
          "execution_count": 6
        }
      ]
    },
    {
      "cell_type": "code",
      "metadata": {
        "id": "kCqr-mudoU9N"
      },
      "source": [
        "data_augmentation = keras.Sequential(\n",
        "    [\n",
        "        layers.experimental.preprocessing.RandomFlip(\"horizontal\"),\n",
        "        layers.experimental.preprocessing.RandomRotation(0.1),\n",
        "    ]\n",
        ")"
      ],
      "execution_count": null,
      "outputs": []
    },
    {
      "cell_type": "code",
      "metadata": {
        "colab": {
          "base_uri": "https://localhost:8080/",
          "height": 307
        },
        "id": "k_KZk_CmvQEK",
        "outputId": "4fec657c-3bcc-4aba-d88c-bf1cac46fe66"
      },
      "source": [
        "augmented_test = data_augmentation(traindf)"
      ],
      "execution_count": null,
      "outputs": [
        {
          "output_type": "error",
          "ename": "TypeError",
          "evalue": "ignored",
          "traceback": [
            "\u001b[0;31m---------------------------------------------------------------------------\u001b[0m",
            "\u001b[0;31mTypeError\u001b[0m                                 Traceback (most recent call last)",
            "\u001b[0;32m<ipython-input-13-7619272fe90c>\u001b[0m in \u001b[0;36m<module>\u001b[0;34m()\u001b[0m\n\u001b[0;32m----> 1\u001b[0;31m \u001b[0maugmented_test\u001b[0m \u001b[0;34m=\u001b[0m \u001b[0mdata_augmentation\u001b[0m\u001b[0;34m(\u001b[0m\u001b[0mtraindf\u001b[0m\u001b[0;34m)\u001b[0m\u001b[0;34m\u001b[0m\u001b[0;34m\u001b[0m\u001b[0m\n\u001b[0m",
            "\u001b[0;32m/usr/local/lib/python3.7/dist-packages/tensorflow/python/keras/engine/base_layer.py\u001b[0m in \u001b[0;36m__call__\u001b[0;34m(self, *args, **kwargs)\u001b[0m\n\u001b[1;32m   1011\u001b[0m         training=training_mode):\n\u001b[1;32m   1012\u001b[0m \u001b[0;34m\u001b[0m\u001b[0m\n\u001b[0;32m-> 1013\u001b[0;31m       \u001b[0minput_spec\u001b[0m\u001b[0;34m.\u001b[0m\u001b[0massert_input_compatibility\u001b[0m\u001b[0;34m(\u001b[0m\u001b[0mself\u001b[0m\u001b[0;34m.\u001b[0m\u001b[0minput_spec\u001b[0m\u001b[0;34m,\u001b[0m \u001b[0minputs\u001b[0m\u001b[0;34m,\u001b[0m \u001b[0mself\u001b[0m\u001b[0;34m.\u001b[0m\u001b[0mname\u001b[0m\u001b[0;34m)\u001b[0m\u001b[0;34m\u001b[0m\u001b[0;34m\u001b[0m\u001b[0m\n\u001b[0m\u001b[1;32m   1014\u001b[0m       \u001b[0;32mif\u001b[0m \u001b[0meager\u001b[0m\u001b[0;34m:\u001b[0m\u001b[0;34m\u001b[0m\u001b[0;34m\u001b[0m\u001b[0m\n\u001b[1;32m   1015\u001b[0m         \u001b[0mcall_fn\u001b[0m \u001b[0;34m=\u001b[0m \u001b[0mself\u001b[0m\u001b[0;34m.\u001b[0m\u001b[0mcall\u001b[0m\u001b[0;34m\u001b[0m\u001b[0;34m\u001b[0m\u001b[0m\n",
            "\u001b[0;32m/usr/local/lib/python3.7/dist-packages/tensorflow/python/keras/engine/input_spec.py\u001b[0m in \u001b[0;36massert_input_compatibility\u001b[0;34m(input_spec, inputs, layer_name)\u001b[0m\n\u001b[1;32m    195\u001b[0m     \u001b[0;31m# have a `shape` attribute.\u001b[0m\u001b[0;34m\u001b[0m\u001b[0;34m\u001b[0m\u001b[0;34m\u001b[0m\u001b[0m\n\u001b[1;32m    196\u001b[0m     \u001b[0;32mif\u001b[0m \u001b[0;32mnot\u001b[0m \u001b[0mhasattr\u001b[0m\u001b[0;34m(\u001b[0m\u001b[0mx\u001b[0m\u001b[0;34m,\u001b[0m \u001b[0;34m'shape'\u001b[0m\u001b[0;34m)\u001b[0m\u001b[0;34m:\u001b[0m\u001b[0;34m\u001b[0m\u001b[0;34m\u001b[0m\u001b[0m\n\u001b[0;32m--> 197\u001b[0;31m       \u001b[0;32mraise\u001b[0m \u001b[0mTypeError\u001b[0m\u001b[0;34m(\u001b[0m\u001b[0;34m'Inputs to a layer should be tensors. Got: %s'\u001b[0m \u001b[0;34m%\u001b[0m \u001b[0;34m(\u001b[0m\u001b[0mx\u001b[0m\u001b[0;34m,\u001b[0m\u001b[0;34m)\u001b[0m\u001b[0;34m)\u001b[0m\u001b[0;34m\u001b[0m\u001b[0;34m\u001b[0m\u001b[0m\n\u001b[0m\u001b[1;32m    198\u001b[0m \u001b[0;34m\u001b[0m\u001b[0m\n\u001b[1;32m    199\u001b[0m   \u001b[0;32mif\u001b[0m \u001b[0mlen\u001b[0m\u001b[0;34m(\u001b[0m\u001b[0minputs\u001b[0m\u001b[0;34m)\u001b[0m \u001b[0;34m!=\u001b[0m \u001b[0mlen\u001b[0m\u001b[0;34m(\u001b[0m\u001b[0minput_spec\u001b[0m\u001b[0;34m)\u001b[0m\u001b[0;34m:\u001b[0m\u001b[0;34m\u001b[0m\u001b[0;34m\u001b[0m\u001b[0m\n",
            "\u001b[0;31mTypeError\u001b[0m: Inputs to a layer should be tensors. Got: <BatchDataset shapes: ((None, 256, 256, 3), (None, 10)), types: (tf.float32, tf.float32)>"
          ]
        }
      ]
    },
    {
      "cell_type": "code",
      "metadata": {
        "colab": {
          "base_uri": "https://localhost:8080/"
        },
        "id": "gvQo4aWJwZgk",
        "outputId": "da6e3bde-8235-4bf7-a265-acd02aa00a60"
      },
      "source": [
        "for images, _ in traindf.take()\n",
        "  print(len(images))"
      ],
      "execution_count": null,
      "outputs": [
        {
          "output_type": "stream",
          "text": [
            "32\n",
            "32\n"
          ],
          "name": "stdout"
        }
      ]
    },
    {
      "cell_type": "code",
      "metadata": {
        "colab": {
          "base_uri": "https://localhost:8080/"
        },
        "id": "Iz0rJ7v-yX_q",
        "outputId": "5e55af52-5ecb-495f-f543-1098c176ccc1"
      },
      "source": [
        "traindf"
      ],
      "execution_count": null,
      "outputs": [
        {
          "output_type": "execute_result",
          "data": {
            "text/plain": [
              "<BatchDataset shapes: ((None, 256, 256, 3), (None, 10)), types: (tf.float32, tf.float32)>"
            ]
          },
          "metadata": {
            "tags": []
          },
          "execution_count": 22
        }
      ]
    },
    {
      "cell_type": "code",
      "metadata": {
        "id": "_FmKyarH0_7J"
      },
      "source": [
        "inputs = keras.Input(shape=(256, 256, 3))"
      ],
      "execution_count": null,
      "outputs": []
    },
    {
      "cell_type": "code",
      "metadata": {
        "id": "-bLBn5kD1eJ7"
      },
      "source": [
        "x = data_augmentation(inputs)"
      ],
      "execution_count": null,
      "outputs": []
    },
    {
      "cell_type": "code",
      "metadata": {
        "colab": {
          "base_uri": "https://localhost:8080/"
        },
        "id": "yCvIuScr1jsV",
        "outputId": "e6896d30-7857-4700-d58f-bad0879ea39e"
      },
      "source": [
        "x"
      ],
      "execution_count": null,
      "outputs": [
        {
          "output_type": "execute_result",
          "data": {
            "text/plain": [
              "<KerasTensor: shape=(None, 256, 256, 3) dtype=float32 (created by layer 'sequential')>"
            ]
          },
          "metadata": {
            "tags": []
          },
          "execution_count": 25
        }
      ]
    },
    {
      "cell_type": "code",
      "metadata": {
        "id": "S0wb5znY1kYe"
      },
      "source": [
        ""
      ],
      "execution_count": null,
      "outputs": []
    },
    {
      "cell_type": "markdown",
      "metadata": {
        "id": "bjDIK9ER3o1z"
      },
      "source": [
        "Lets try jsut adding these layers early in the model"
      ]
    },
    {
      "cell_type": "code",
      "metadata": {
        "id": "iKEDghsg4P_J"
      },
      "source": [
        "model2 = Sequential()"
      ],
      "execution_count": null,
      "outputs": []
    },
    {
      "cell_type": "code",
      "metadata": {
        "id": "bJzZ0sVP4yai"
      },
      "source": [
        "from keras.models import Model\n",
        "from keras.applications import mobilenet_v2\n",
        "from keras.preprocessing import image"
      ],
      "execution_count": null,
      "outputs": []
    },
    {
      "cell_type": "code",
      "metadata": {
        "colab": {
          "base_uri": "https://localhost:8080/"
        },
        "id": "FXhTFRxx9Nc6",
        "outputId": "070d7d1d-9249-4136-d84c-f84cf4ed7ba0"
      },
      "source": [
        "base = mobilenet_v2.MobileNetV2(weights='imagenet', include_top=False, input_shape=(256,256,3))"
      ],
      "execution_count": null,
      "outputs": [
        {
          "output_type": "stream",
          "text": [
            "WARNING:tensorflow:`input_shape` is undefined or non-square, or `rows` is not in [96, 128, 160, 192, 224]. Weights for input shape (224, 224) will be loaded as the default.\n"
          ],
          "name": "stdout"
        }
      ]
    },
    {
      "cell_type": "code",
      "metadata": {
        "id": "DBc09hU89m_b"
      },
      "source": [
        "for layer in base.layers:\n",
        "  layer.trainable = False\n",
        "\n",
        "x = base.output\n",
        "x = GlobalAveragePooling2D()(x)\n",
        "x = Dense(60, activation = 'relu')(x)\n",
        "x = Dense(30, activation = 'relu')(x)\n",
        "out = Dense(10, activation = 'softmax')(x)\n",
        "\n",
        "model2 = Model(inputs = base.input, outputs = out)\n",
        "\n"
      ],
      "execution_count": null,
      "outputs": []
    },
    {
      "cell_type": "code",
      "metadata": {
        "id": "alMnDSsTBSLP"
      },
      "source": [
        "model2.compile(\n",
        "    optimizer = 'adam',\n",
        "    loss = 'categorical_crossentropy',\n",
        "    metrics = ['accuracy'])"
      ],
      "execution_count": null,
      "outputs": []
    },
    {
      "cell_type": "code",
      "metadata": {
        "colab": {
          "base_uri": "https://localhost:8080/"
        },
        "id": "POr3HSO_CM-_",
        "outputId": "a2e3c7cf-e7ef-45f0-86d6-0a268884ff1f"
      },
      "source": [
        "model2.fit(traindf, epochs=20, verbose=1, validation_data=valdf,\n",
        "       callbacks=[\n",
        "           keras.callbacks.ModelCheckpoint(\n",
        "               'models/mnist.{epoch:02d}-{val_loss:.2f}.hdf5',\n",
        "               save_best_only=True)\n",
        "       ])  # track progress as we fit"
      ],
      "execution_count": null,
      "outputs": [
        {
          "output_type": "stream",
          "text": [
            "Epoch 1/20\n",
            "92/92 [==============================] - 25s 147ms/step - loss: 2.2587 - accuracy: 0.1732 - val_loss: 2.0078 - val_accuracy: 0.2761\n"
          ],
          "name": "stdout"
        },
        {
          "output_type": "stream",
          "text": [
            "/usr/local/lib/python3.7/dist-packages/keras/utils/generic_utils.py:497: CustomMaskWarning: Custom mask layers require a config and must override get_config. When loading, the custom mask layer must be passed to the custom_objects argument.\n",
            "  category=CustomMaskWarning)\n"
          ],
          "name": "stderr"
        },
        {
          "output_type": "stream",
          "text": [
            "Epoch 2/20\n",
            "92/92 [==============================] - 10s 106ms/step - loss: 1.9420 - accuracy: 0.2962 - val_loss: 1.8121 - val_accuracy: 0.3874\n",
            "Epoch 3/20\n",
            "92/92 [==============================] - 10s 105ms/step - loss: 1.7307 - accuracy: 0.3797 - val_loss: 1.7919 - val_accuracy: 0.3874\n",
            "Epoch 4/20\n",
            "92/92 [==============================] - 10s 105ms/step - loss: 1.6027 - accuracy: 0.4275 - val_loss: 1.7319 - val_accuracy: 0.3915\n",
            "Epoch 5/20\n",
            "92/92 [==============================] - 10s 105ms/step - loss: 1.4374 - accuracy: 0.5155 - val_loss: 1.6897 - val_accuracy: 0.4217\n",
            "Epoch 6/20\n",
            "92/92 [==============================] - 10s 105ms/step - loss: 1.4168 - accuracy: 0.5076 - val_loss: 1.6468 - val_accuracy: 0.4258\n",
            "Epoch 7/20\n",
            "92/92 [==============================] - 10s 105ms/step - loss: 1.3151 - accuracy: 0.5517 - val_loss: 1.7389 - val_accuracy: 0.4148\n",
            "Epoch 8/20\n",
            "92/92 [==============================] - 10s 105ms/step - loss: 1.2388 - accuracy: 0.5713 - val_loss: 1.6487 - val_accuracy: 0.4299\n",
            "Epoch 9/20\n",
            "92/92 [==============================] - 10s 105ms/step - loss: 1.1583 - accuracy: 0.6145 - val_loss: 1.5753 - val_accuracy: 0.4739\n",
            "Epoch 10/20\n",
            "92/92 [==============================] - 10s 104ms/step - loss: 1.1082 - accuracy: 0.6391 - val_loss: 1.6364 - val_accuracy: 0.4533\n",
            "Epoch 11/20\n",
            "92/92 [==============================] - 10s 105ms/step - loss: 1.0522 - accuracy: 0.6531 - val_loss: 1.6285 - val_accuracy: 0.4615\n",
            "Epoch 12/20\n",
            "92/92 [==============================] - 10s 104ms/step - loss: 1.0037 - accuracy: 0.6704 - val_loss: 1.6333 - val_accuracy: 0.4602\n",
            "Epoch 13/20\n",
            "92/92 [==============================] - 10s 104ms/step - loss: 0.9309 - accuracy: 0.6929 - val_loss: 1.5929 - val_accuracy: 0.4766\n",
            "Epoch 14/20\n",
            "92/92 [==============================] - 10s 104ms/step - loss: 0.9091 - accuracy: 0.6971 - val_loss: 1.6579 - val_accuracy: 0.4684\n",
            "Epoch 15/20\n",
            "92/92 [==============================] - 10s 104ms/step - loss: 0.8200 - accuracy: 0.7344 - val_loss: 1.6694 - val_accuracy: 0.4588\n",
            "Epoch 16/20\n",
            "92/92 [==============================] - 10s 104ms/step - loss: 0.8006 - accuracy: 0.7549 - val_loss: 1.6481 - val_accuracy: 0.4780\n",
            "Epoch 17/20\n",
            "92/92 [==============================] - 10s 104ms/step - loss: 0.7385 - accuracy: 0.7693 - val_loss: 1.7743 - val_accuracy: 0.4533\n",
            "Epoch 18/20\n",
            "92/92 [==============================] - 10s 104ms/step - loss: 0.7392 - accuracy: 0.7627 - val_loss: 1.8196 - val_accuracy: 0.4560\n",
            "Epoch 19/20\n",
            "92/92 [==============================] - 10s 103ms/step - loss: 0.6858 - accuracy: 0.7787 - val_loss: 1.7918 - val_accuracy: 0.4684\n",
            "Epoch 20/20\n",
            "92/92 [==============================] - 10s 104ms/step - loss: 0.6542 - accuracy: 0.7949 - val_loss: 1.8627 - val_accuracy: 0.4478\n"
          ],
          "name": "stdout"
        },
        {
          "output_type": "execute_result",
          "data": {
            "text/plain": [
              "<keras.callbacks.History at 0x7f1a23314a50>"
            ]
          },
          "metadata": {
            "tags": []
          },
          "execution_count": 47
        }
      ]
    },
    {
      "cell_type": "markdown",
      "metadata": {
        "id": "XzXnCLAXPBd_"
      },
      "source": [
        "Adding my augmentations before importing mobilenet"
      ]
    },
    {
      "cell_type": "code",
      "metadata": {
        "id": "24ICmPrACe2N"
      },
      "source": [
        "x = data_augmentation(inputs)\n",
        "x = base.output\n",
        "x = GlobalAveragePooling2D()(x)\n",
        "x = Dense(60, activation = 'relu')(x)\n",
        "x = Dense(30, activation = 'relu')(x)\n",
        "out = Dense(10, activation = 'softmax')(x)\n",
        "\n",
        "model3 = Model(inputs = base.input, outputs = out)\n",
        "\n"
      ],
      "execution_count": null,
      "outputs": []
    },
    {
      "cell_type": "code",
      "metadata": {
        "colab": {
          "base_uri": "https://localhost:8080/"
        },
        "id": "zfgk9ysaOZsC",
        "outputId": "0ff7de7f-82d9-47ff-ca6f-5f1028c73d0f"
      },
      "source": [
        "model3.compile(\n",
        "    optimizer = 'adam',\n",
        "    loss = 'categorical_crossentropy',\n",
        "    metrics = ['accuracy'])\n",
        "\n",
        "model3.fit(traindf, epochs=20, verbose=1, validation_data=valdf,\n",
        "       callbacks=[\n",
        "           keras.callbacks.ModelCheckpoint(\n",
        "               'models/mnist.{epoch:02d}-{val_loss:.2f}.hdf5',\n",
        "               save_best_only=True)\n",
        "       ])  # track progress as we fit"
      ],
      "execution_count": null,
      "outputs": [
        {
          "output_type": "stream",
          "text": [
            "Epoch 1/20\n",
            "183/183 [==============================] - 21s 72ms/step - loss: 2.2546 - accuracy: 0.1551 - val_loss: 2.1393 - val_accuracy: 0.2102\n"
          ],
          "name": "stdout"
        },
        {
          "output_type": "stream",
          "text": [
            "/usr/local/lib/python3.7/dist-packages/keras/utils/generic_utils.py:497: CustomMaskWarning: Custom mask layers require a config and must override get_config. When loading, the custom mask layer must be passed to the custom_objects argument.\n",
            "  category=CustomMaskWarning)\n"
          ],
          "name": "stderr"
        },
        {
          "output_type": "stream",
          "text": [
            "Epoch 2/20\n",
            "183/183 [==============================] - 10s 55ms/step - loss: 1.9352 - accuracy: 0.3047 - val_loss: 1.9102 - val_accuracy: 0.3049\n",
            "Epoch 3/20\n",
            "183/183 [==============================] - 10s 54ms/step - loss: 1.7526 - accuracy: 0.3787 - val_loss: 1.8123 - val_accuracy: 0.3599\n",
            "Epoch 4/20\n",
            "183/183 [==============================] - 10s 54ms/step - loss: 1.6256 - accuracy: 0.4450 - val_loss: 1.7745 - val_accuracy: 0.3709\n",
            "Epoch 5/20\n",
            "183/183 [==============================] - 10s 54ms/step - loss: 1.5104 - accuracy: 0.4844 - val_loss: 1.7404 - val_accuracy: 0.3956\n",
            "Epoch 6/20\n",
            "183/183 [==============================] - 10s 54ms/step - loss: 1.4099 - accuracy: 0.5175 - val_loss: 1.7647 - val_accuracy: 0.4052\n",
            "Epoch 7/20\n",
            "183/183 [==============================] - 10s 55ms/step - loss: 1.3646 - accuracy: 0.5368 - val_loss: 1.7072 - val_accuracy: 0.4217\n",
            "Epoch 8/20\n",
            "183/183 [==============================] - 10s 54ms/step - loss: 1.2625 - accuracy: 0.5783 - val_loss: 1.6472 - val_accuracy: 0.4423\n",
            "Epoch 9/20\n",
            "183/183 [==============================] - 10s 56ms/step - loss: 1.1866 - accuracy: 0.5944 - val_loss: 1.6196 - val_accuracy: 0.4684\n",
            "Epoch 10/20\n",
            "183/183 [==============================] - 10s 56ms/step - loss: 1.0911 - accuracy: 0.6415 - val_loss: 1.7826 - val_accuracy: 0.4162\n",
            "Epoch 11/20\n",
            "183/183 [==============================] - 10s 55ms/step - loss: 1.0246 - accuracy: 0.6583 - val_loss: 1.6477 - val_accuracy: 0.4574\n",
            "Epoch 12/20\n",
            "183/183 [==============================] - 10s 56ms/step - loss: 0.9663 - accuracy: 0.6797 - val_loss: 1.6418 - val_accuracy: 0.4712\n",
            "Epoch 13/20\n",
            "183/183 [==============================] - 10s 56ms/step - loss: 0.9576 - accuracy: 0.6777 - val_loss: 1.6821 - val_accuracy: 0.4354\n",
            "Epoch 14/20\n",
            "183/183 [==============================] - 10s 56ms/step - loss: 0.8876 - accuracy: 0.7081 - val_loss: 1.7058 - val_accuracy: 0.4451\n",
            "Epoch 15/20\n",
            "183/183 [==============================] - 10s 56ms/step - loss: 0.8109 - accuracy: 0.7262 - val_loss: 1.7484 - val_accuracy: 0.4560\n",
            "Epoch 16/20\n",
            "183/183 [==============================] - 10s 56ms/step - loss: 0.7556 - accuracy: 0.7490 - val_loss: 1.7491 - val_accuracy: 0.4451\n",
            "Epoch 17/20\n",
            "183/183 [==============================] - 10s 56ms/step - loss: 0.7338 - accuracy: 0.7637 - val_loss: 1.7894 - val_accuracy: 0.4643\n",
            "Epoch 18/20\n",
            "183/183 [==============================] - 10s 55ms/step - loss: 0.6925 - accuracy: 0.7751 - val_loss: 1.9305 - val_accuracy: 0.4396\n",
            "Epoch 19/20\n",
            "183/183 [==============================] - 10s 55ms/step - loss: 0.6698 - accuracy: 0.7825 - val_loss: 1.8400 - val_accuracy: 0.4643\n",
            "Epoch 20/20\n",
            "183/183 [==============================] - 10s 56ms/step - loss: 0.6176 - accuracy: 0.7987 - val_loss: 1.8921 - val_accuracy: 0.4698\n"
          ],
          "name": "stdout"
        },
        {
          "output_type": "execute_result",
          "data": {
            "text/plain": [
              "<keras.callbacks.History at 0x7f1a21619ad0>"
            ]
          },
          "metadata": {
            "tags": []
          },
          "execution_count": 58
        }
      ]
    },
    {
      "cell_type": "markdown",
      "metadata": {
        "id": "qrtCpw1dP8L_"
      },
      "source": [
        "Switched to Flow method to augment my data. Trying older model without transfer learning\n",
        "\n"
      ]
    },
    {
      "cell_type": "code",
      "metadata": {
        "id": "AhI9OHGc2vE8"
      },
      "source": [
        "history = History()"
      ],
      "execution_count": 10,
      "outputs": []
    },
    {
      "cell_type": "markdown",
      "metadata": {
        "id": "P-SgiKI-nHti"
      },
      "source": [
        "Model worked SUPER well, but I was also augmenting val files, not just train. fixing issues and lessening steps per epch for time"
      ]
    },
    {
      "cell_type": "code",
      "metadata": {
        "id": "GlldLkIUbuTq",
        "colab": {
          "base_uri": "https://localhost:8080/"
        },
        "outputId": "a3b636fd-aa85-49df-a325-1360a82e1b73"
      },
      "source": [
        "model5 = Sequential()\n",
        "\n",
        "model5.add(InputLayer(input_shape = (256, 256, 3)))\n",
        "\n",
        "\n",
        "model5.add(Conv2D(\n",
        "            filters=10,\n",
        "            kernel_size=3, \n",
        "            activation='relu', \n",
        "            padding='same'))\n",
        "\n",
        "#model.add(AveragePooling2D())\n",
        "\n",
        "model5.add(Conv2D(\n",
        "            filters=20,\n",
        "            kernel_size=3, \n",
        "            activation='relu', \n",
        "            padding='same'))\n",
        "\n",
        "model5.add(AveragePooling2D())\n",
        "\n",
        "model5.add(Conv2D(\n",
        "            filters=40,\n",
        "            kernel_size=3, \n",
        "            activation='relu', \n",
        "            padding='same'))\n",
        "\n",
        "model5.add(AveragePooling2D())\n",
        "\n",
        "model5.add(Conv2D(\n",
        "            filters=60,\n",
        "            kernel_size=3, \n",
        "            activation='relu', \n",
        "            padding='same'))\n",
        "\n",
        "model5.add(AveragePooling2D())\n",
        "\n",
        "model5.add(Conv2D(\n",
        "            filters=100,\n",
        "            kernel_size=3, \n",
        "            activation='relu', \n",
        "            padding='same'))\n",
        "\n",
        "model5.add(AveragePooling2D())\n",
        "\n",
        "\n",
        "model5.add(GlobalAveragePooling2D())\n",
        "\n",
        "model5.add(Dense(100, activation = 'relu'))\n",
        "\n",
        "model5.add(Dense(80, activation = 'relu'))\n",
        "\n",
        "model5.add(Dense(40, activation='relu'))\n",
        "\n",
        "model5.add(Dense(20, activation = 'relu'))\n",
        "\n",
        "model5.add(Dropout(.20))\n",
        "\n",
        "model5.add(Dense(10, activation='softmax'))  # 3 target classes\n",
        "\n",
        "model5.compile(\n",
        "    loss='categorical_crossentropy',\n",
        "    optimizer='adam',\n",
        "    metrics=['accuracy'],\n",
        ")\n",
        "#model4.summary()\n",
        "\n",
        "history = model5.fit(flow_traindf, epochs=25, verbose=1, validation_data=flow_valdf,\n",
        "           steps_per_epoch = 800, validation_steps = 300,\n",
        "       callbacks=[\n",
        "           keras.callbacks.ModelCheckpoint(\n",
        "               'models/mnist.{epoch:02d}-{val_loss:.2f}.hdf5',\n",
        "               save_best_only=True)\n",
        "       ])  # track progress as we fit"
      ],
      "execution_count": 11,
      "outputs": [
        {
          "output_type": "stream",
          "text": [
            "Epoch 1/25\n",
            "800/800 [==============================] - 209s 226ms/step - loss: 2.2032 - accuracy: 0.1919 - val_loss: 1.9099 - val_accuracy: 0.2955\n",
            "Epoch 2/25\n",
            "800/800 [==============================] - 181s 227ms/step - loss: 1.8885 - accuracy: 0.3081 - val_loss: 1.6180 - val_accuracy: 0.4163\n",
            "Epoch 3/25\n",
            "800/800 [==============================] - 180s 226ms/step - loss: 1.6720 - accuracy: 0.3982 - val_loss: 1.4152 - val_accuracy: 0.5317\n",
            "Epoch 4/25\n",
            "800/800 [==============================] - 181s 227ms/step - loss: 1.4192 - accuracy: 0.5006 - val_loss: 1.2000 - val_accuracy: 0.6030\n",
            "Epoch 5/25\n",
            "800/800 [==============================] - 182s 228ms/step - loss: 1.2742 - accuracy: 0.5633 - val_loss: 1.0391 - val_accuracy: 0.6610\n",
            "Epoch 6/25\n",
            "800/800 [==============================] - 182s 228ms/step - loss: 1.1681 - accuracy: 0.6000 - val_loss: 0.9589 - val_accuracy: 0.6733\n",
            "Epoch 7/25\n",
            "800/800 [==============================] - 183s 229ms/step - loss: 1.1034 - accuracy: 0.6247 - val_loss: 0.9639 - val_accuracy: 0.6986\n",
            "Epoch 8/25\n",
            "800/800 [==============================] - 183s 228ms/step - loss: 1.0214 - accuracy: 0.6597 - val_loss: 0.8621 - val_accuracy: 0.7292\n",
            "Epoch 9/25\n",
            "800/800 [==============================] - 186s 232ms/step - loss: 0.9413 - accuracy: 0.6850 - val_loss: 0.9862 - val_accuracy: 0.7034\n",
            "Epoch 10/25\n",
            "800/800 [==============================] - 186s 233ms/step - loss: 0.9213 - accuracy: 0.6963 - val_loss: 0.8957 - val_accuracy: 0.7256\n",
            "Epoch 11/25\n",
            "800/800 [==============================] - 191s 239ms/step - loss: 0.8437 - accuracy: 0.7215 - val_loss: 0.9099 - val_accuracy: 0.7250\n",
            "Epoch 12/25\n",
            "800/800 [==============================] - 184s 230ms/step - loss: 0.7835 - accuracy: 0.7429 - val_loss: 0.8006 - val_accuracy: 0.7470\n",
            "Epoch 13/25\n",
            "800/800 [==============================] - 184s 230ms/step - loss: 0.7444 - accuracy: 0.7578 - val_loss: 0.9414 - val_accuracy: 0.7463\n",
            "Epoch 14/25\n",
            "800/800 [==============================] - 185s 231ms/step - loss: 0.7034 - accuracy: 0.7698 - val_loss: 0.9706 - val_accuracy: 0.7068\n",
            "Epoch 15/25\n",
            "800/800 [==============================] - 185s 232ms/step - loss: 0.6735 - accuracy: 0.7797 - val_loss: 1.0058 - val_accuracy: 0.7220\n",
            "Epoch 16/25\n",
            "800/800 [==============================] - 186s 232ms/step - loss: 0.6468 - accuracy: 0.7923 - val_loss: 0.9638 - val_accuracy: 0.7624\n",
            "Epoch 17/25\n",
            "800/800 [==============================] - 185s 232ms/step - loss: 0.5876 - accuracy: 0.8096 - val_loss: 0.8684 - val_accuracy: 0.7809\n",
            "Epoch 18/25\n",
            "800/800 [==============================] - 187s 234ms/step - loss: 0.5604 - accuracy: 0.8196 - val_loss: 0.9576 - val_accuracy: 0.7482\n",
            "Epoch 19/25\n",
            "800/800 [==============================] - 187s 234ms/step - loss: 0.5313 - accuracy: 0.8278 - val_loss: 0.9195 - val_accuracy: 0.7732\n",
            "Epoch 20/25\n",
            "800/800 [==============================] - 186s 233ms/step - loss: 0.5044 - accuracy: 0.8386 - val_loss: 0.9378 - val_accuracy: 0.7729\n",
            "Epoch 21/25\n",
            "800/800 [==============================] - 184s 231ms/step - loss: 0.4959 - accuracy: 0.8374 - val_loss: 0.8925 - val_accuracy: 0.7828\n",
            "Epoch 22/25\n",
            "800/800 [==============================] - 184s 231ms/step - loss: 0.5266 - accuracy: 0.8361 - val_loss: 0.9493 - val_accuracy: 0.7645\n",
            "Epoch 23/25\n",
            "800/800 [==============================] - 184s 231ms/step - loss: 0.4246 - accuracy: 0.8625 - val_loss: 0.9196 - val_accuracy: 0.7885\n",
            "Epoch 24/25\n",
            "800/800 [==============================] - 184s 231ms/step - loss: 0.4130 - accuracy: 0.8628 - val_loss: 1.0400 - val_accuracy: 0.7516\n",
            "Epoch 25/25\n",
            "800/800 [==============================] - 185s 231ms/step - loss: 0.4259 - accuracy: 0.8583 - val_loss: 0.9024 - val_accuracy: 0.7657\n"
          ],
          "name": "stdout"
        }
      ]
    },
    {
      "cell_type": "code",
      "metadata": {
        "colab": {
          "base_uri": "https://localhost:8080/"
        },
        "id": "a8xPIT1qoUzZ",
        "outputId": "17e95dce-9f04-427e-e9bd-1657ee6578ea"
      },
      "source": [
        "model5.save('/content/drive/MyDrive/cocktail_classifier')"
      ],
      "execution_count": null,
      "outputs": [
        {
          "output_type": "stream",
          "text": [
            "INFO:tensorflow:Assets written to: /content/drive/MyDrive/cocktail_classifier/assets\n"
          ],
          "name": "stdout"
        }
      ]
    },
    {
      "cell_type": "code",
      "metadata": {
        "colab": {
          "base_uri": "https://localhost:8080/",
          "height": 435
        },
        "id": "JhDjus5273T0",
        "outputId": "ab49bc49-54f6-42d7-9722-443371abf6cb"
      },
      "source": [
        "acc = history.history['accuracy']\n",
        "val_acc = history.history['val_accuracy']\n",
        "loss = history.history['loss']\n",
        "val_loss = history.history['val_loss']\n",
        "\n",
        "epochs_range = range(25)\n",
        "\n",
        "plt.figure(figsize=(15, 15))\n",
        "plt.subplot(2, 2, 1)\n",
        "plt.plot(epochs_range, acc, label='Training Accuracy')\n",
        "plt.plot(epochs_range, val_acc, label='Validation Accuracy')\n",
        "plt.legend(loc='lower right')\n",
        "plt.title('Training and Validation Accuracy')\n",
        "\n",
        "plt.subplot(2, 2, 2)\n",
        "plt.plot(epochs_range, loss, label='Training Loss')\n",
        "plt.plot(epochs_range, val_loss, label='Validation Loss')\n",
        "plt.legend(loc='upper right')\n",
        "plt.title('Training and Validation Loss')\n",
        "plt.show()"
      ],
      "execution_count": 22,
      "outputs": [
        {
          "output_type": "display_data",
          "data": {
            "image/png": "[encoded data removed]",
            "text/plain": [
              "<Figure size 1080x1080 with 2 Axes>"
            ]
          },
          "metadata": {
            "tags": [],
            "needs_background": "light"
          }
        }
      ]
    },
    {
      "cell_type": "code",
      "metadata": {
        "colab": {
          "base_uri": "https://localhost:8080/"
        },
        "id": "xesyppiD9y1l",
        "outputId": "61c6193c-5cd4-4b51-cfd7-6dd5023a66f8"
      },
      "source": [
        "model5.evaluate(flow_testdf, steps = 800)"
      ],
      "execution_count": 26,
      "outputs": [
        {
          "output_type": "stream",
          "text": [
            "800/800 [==============================] - 3s 4ms/step - loss: 1.0500 - accuracy: 0.7538\n"
          ],
          "name": "stdout"
        },
        {
          "output_type": "execute_result",
          "data": {
            "text/plain": [
              "[1.0500245094299316, 0.7537500262260437]"
            ]
          },
          "metadata": {
            "tags": []
          },
          "execution_count": 26
        }
      ]
    },
    {
      "cell_type": "code",
      "metadata": {
        "colab": {
          "base_uri": "https://localhost:8080/"
        },
        "id": "JmIWEixE_nQn",
        "outputId": "f3cda93f-5dc1-4459-c74f-3359983e8ec3"
      },
      "source": [
        "model5.predict(testdf)"
      ],
      "execution_count": null,
      "outputs": [
        {
          "output_type": "execute_result",
          "data": {
            "text/plain": [
              "array([[6.57380978e-03, 6.30620355e-03, 1.10017856e-04, ...,\n",
              "        1.93499713e-04, 9.55285907e-01, 1.01603323e-03],\n",
              "       [1.47892873e-18, 1.25482747e-14, 1.68946779e-09, ...,\n",
              "        7.05726037e-04, 5.18091196e-16, 2.68993556e-08],\n",
              "       [3.66326445e-03, 9.93337631e-01, 5.47953998e-04, ...,\n",
              "        2.64355971e-04, 1.90616434e-03, 1.56834256e-04],\n",
              "       ...,\n",
              "       [6.82362440e-07, 6.00872241e-08, 4.84225247e-03, ...,\n",
              "        4.98362537e-03, 8.30234349e-05, 6.87120631e-02],\n",
              "       [2.90599564e-06, 5.27339466e-07, 9.99996185e-01, ...,\n",
              "        8.95074570e-10, 1.90820174e-07, 5.61863800e-08],\n",
              "       [6.69519475e-04, 1.68892584e-04, 9.04912278e-02, ...,\n",
              "        3.93255381e-03, 2.48676632e-02, 3.52370329e-02]], dtype=float32)"
            ]
          },
          "metadata": {
            "tags": []
          },
          "execution_count": 96
        }
      ]
    },
    {
      "cell_type": "code",
      "metadata": {
        "id": "IMQRrhZ7_x_7"
      },
      "source": [
        "def prepare_image(img_path):\n",
        "\n",
        "    img = image.load_img(img_path, target_size=(256, 256, 3))\n",
        "    x = image.img_to_array(img)\n",
        "    x = np.expand_dims(x, axis=0)\n",
        "    #x = mobilenet_v2.preprocess_input(x)\n",
        "    return x\n",
        "\n"
      ],
      "execution_count": null,
      "outputs": []
    },
    {
      "cell_type": "code",
      "metadata": {
        "id": "Ouvj7kUAAU9r"
      },
      "source": [
        "x = prepare_image('/content/drive/MyDrive/cocktail_classifier/test photo.jpg')"
      ],
      "execution_count": null,
      "outputs": []
    },
    {
      "cell_type": "code",
      "metadata": {
        "colab": {
          "base_uri": "https://localhost:8080/"
        },
        "id": "6_E81lFGAkgx",
        "outputId": "a6f9657f-a1b5-455a-da49-9b52b8ebb5b6"
      },
      "source": [
        "model5.predict(x)"
      ],
      "execution_count": null,
      "outputs": [
        {
          "output_type": "execute_result",
          "data": {
            "text/plain": [
              "array([[2.6627758e-01, 3.5118084e-02, 9.4971368e-03, 2.2527233e-03,\n",
              "        2.9510058e-05, 8.5522290e-03, 4.7650936e-08, 1.7978835e-03,\n",
              "        6.7050570e-01, 5.9690350e-03]], dtype=float32)"
            ]
          },
          "metadata": {
            "tags": []
          },
          "execution_count": 141
        }
      ]
    },
    {
      "cell_type": "code",
      "metadata": {
        "id": "Fwhgs1Z2DiGS"
      },
      "source": [
        "label_map = (flow_traindf.class_indices)"
      ],
      "execution_count": null,
      "outputs": []
    },
    {
      "cell_type": "code",
      "metadata": {
        "colab": {
          "base_uri": "https://localhost:8080/"
        },
        "id": "DvOJsjR3HAUc",
        "outputId": "b8eea105-856b-4c85-f05b-9cc27bcfd01d"
      },
      "source": [
        "label_map"
      ],
      "execution_count": null,
      "outputs": [
        {
          "output_type": "execute_result",
          "data": {
            "text/plain": [
              "{'Aperol Spritz': 0,\n",
              " 'Bloody Mary': 1,\n",
              " 'Cosmo': 2,\n",
              " 'Irish Coffee': 3,\n",
              " 'Margarita': 4,\n",
              " 'Mimosa': 5,\n",
              " 'Mojito': 6,\n",
              " 'Moscow Mule': 7,\n",
              " 'Old Fashioned': 8,\n",
              " 'Pina Colada': 9}"
            ]
          },
          "metadata": {
            "tags": []
          },
          "execution_count": 119
        }
      ]
    },
    {
      "cell_type": "code",
      "metadata": {
        "colab": {
          "base_uri": "https://localhost:8080/"
        },
        "id": "2CV20oA-H7RZ",
        "outputId": "29dcd9ee-d849-47ac-c8e3-fc7cd8611df6"
      },
      "source": [
        "model5.predict(x)"
      ],
      "execution_count": null,
      "outputs": [
        {
          "output_type": "execute_result",
          "data": {
            "text/plain": [
              "array([[3.8657247e-16, 2.8662232e-19, 8.1984105e-08, 4.6735135e-04,\n",
              "        9.9225545e-01, 2.7153368e-08, 8.3389907e-04, 5.4617806e-07,\n",
              "        1.6193656e-11, 6.4427019e-03]], dtype=float32)"
            ]
          },
          "metadata": {
            "tags": []
          },
          "execution_count": 122
        }
      ]
    },
    {
      "cell_type": "code",
      "metadata": {
        "colab": {
          "base_uri": "https://localhost:8080/"
        },
        "id": "kiV7y68JIG8G",
        "outputId": "691d7d87-19bd-4cc4-eee8-8732e7f88e84"
      },
      "source": [
        "model3.predict(x)"
      ],
      "execution_count": null,
      "outputs": [
        {
          "output_type": "execute_result",
          "data": {
            "text/plain": [
              "array([[2.8147823e-03, 3.0094838e-02, 1.7256105e-03, 2.4136631e-01,\n",
              "        4.6672667e-03, 5.5119459e-04, 5.3368974e-03, 1.5586336e-03,\n",
              "        7.0036054e-01, 1.1523946e-02]], dtype=float32)"
            ]
          },
          "metadata": {
            "tags": []
          },
          "execution_count": 142
        }
      ]
    },
    {
      "cell_type": "code",
      "metadata": {
        "id": "uLoXtm9QLBel"
      },
      "source": [
        "x = prepare_image('/content/drive/MyDrive/cocktail_classifier/coffee_tester.jpg')"
      ],
      "execution_count": null,
      "outputs": []
    },
    {
      "cell_type": "code",
      "metadata": {
        "colab": {
          "base_uri": "https://localhost:8080/"
        },
        "id": "n46_efEXLswi",
        "outputId": "6fc915c5-1e29-45cc-9391-7fd06122c25b"
      },
      "source": [
        "model5.predict(x)"
      ],
      "execution_count": null,
      "outputs": [
        {
          "output_type": "execute_result",
          "data": {
            "text/plain": [
              "array([[8.3700204e-03, 3.0155806e-03, 8.0266595e-02, 4.5634308e-01,\n",
              "        1.2643020e-02, 1.5473704e-02, 2.8797529e-05, 5.9498181e-03,\n",
              "        3.0000791e-01, 1.1790137e-01]], dtype=float32)"
            ]
          },
          "metadata": {
            "tags": []
          },
          "execution_count": 156
        }
      ]
    },
    {
      "cell_type": "code",
      "metadata": {
        "colab": {
          "base_uri": "https://localhost:8080/"
        },
        "id": "NFHlcW1XLvAM",
        "outputId": "578af116-2b89-46e4-e2e4-eadb8b5b7eff"
      },
      "source": [
        "model3.predict(x)"
      ],
      "execution_count": null,
      "outputs": [
        {
          "output_type": "execute_result",
          "data": {
            "text/plain": [
              "array([[9.1842236e-04, 6.3874474e-04, 4.6763371e-04, 3.0702919e-01,\n",
              "        5.2099724e-05, 2.5901983e-05, 1.0114180e-05, 1.3069029e-01,\n",
              "        5.5981702e-01, 3.5059004e-04]], dtype=float32)"
            ]
          },
          "metadata": {
            "tags": []
          },
          "execution_count": 146
        }
      ]
    },
    {
      "cell_type": "code",
      "metadata": {
        "id": "Zw5e5E8kL3eo"
      },
      "source": [
        "output = model5(images)"
      ],
      "execution_count": null,
      "outputs": []
    },
    {
      "cell_type": "code",
      "metadata": {
        "colab": {
          "base_uri": "https://localhost:8080/",
          "height": 164
        },
        "id": "A0lHifX7NUQf",
        "outputId": "33a3816c-c1d7-4ae7-d080-6fa483502a87"
      },
      "source": [
        "preds = model5.predict(x)"
      ],
      "execution_count": null,
      "outputs": [
        {
          "output_type": "error",
          "ename": "NameError",
          "evalue": "ignored",
          "traceback": [
            "\u001b[0;31m---------------------------------------------------------------------------\u001b[0m",
            "\u001b[0;31mNameError\u001b[0m                                 Traceback (most recent call last)",
            "\u001b[0;32m<ipython-input-1-081e86ec1787>\u001b[0m in \u001b[0;36m<module>\u001b[0;34m()\u001b[0m\n\u001b[0;32m----> 1\u001b[0;31m \u001b[0mpreds\u001b[0m \u001b[0;34m=\u001b[0m \u001b[0mmodel5\u001b[0m\u001b[0;34m.\u001b[0m\u001b[0mpredict\u001b[0m\u001b[0;34m(\u001b[0m\u001b[0mx\u001b[0m\u001b[0;34m)\u001b[0m\u001b[0;34m\u001b[0m\u001b[0;34m\u001b[0m\u001b[0m\n\u001b[0m",
            "\u001b[0;31mNameError\u001b[0m: name 'model5' is not defined"
          ]
        }
      ]
    },
    {
      "cell_type": "code",
      "metadata": {
        "colab": {
          "base_uri": "https://localhost:8080/"
        },
        "id": "AztvqbP8SpSj",
        "outputId": "2ddf1508-439c-412c-b80d-345190ca3d59"
      },
      "source": [
        "preds[0]"
      ],
      "execution_count": null,
      "outputs": [
        {
          "output_type": "execute_result",
          "data": {
            "text/plain": [
              "array([8.3700204e-03, 3.0155806e-03, 8.0266595e-02, 4.5634308e-01,\n",
              "       1.2643020e-02, 1.5473704e-02, 2.8797529e-05, 5.9498181e-03,\n",
              "       3.0000791e-01, 1.1790137e-01], dtype=float32)"
            ]
          },
          "metadata": {
            "tags": []
          },
          "execution_count": 159
        }
      ]
    },
    {
      "cell_type": "code",
      "metadata": {
        "colab": {
          "base_uri": "https://localhost:8080/",
          "height": 164
        },
        "id": "NG-l7QcFSwAn",
        "outputId": "4e593d3a-ae0f-4138-924b-d41e638c23a4"
      },
      "source": [
        "preds.sort_values()"
      ],
      "execution_count": null,
      "outputs": [
        {
          "output_type": "error",
          "ename": "AttributeError",
          "evalue": "ignored",
          "traceback": [
            "\u001b[0;31m---------------------------------------------------------------------------\u001b[0m",
            "\u001b[0;31mAttributeError\u001b[0m                            Traceback (most recent call last)",
            "\u001b[0;32m<ipython-input-157-6cf8c3b3d1c4>\u001b[0m in \u001b[0;36m<module>\u001b[0;34m()\u001b[0m\n\u001b[0;32m----> 1\u001b[0;31m \u001b[0mpreds\u001b[0m\u001b[0;34m.\u001b[0m\u001b[0msort_values\u001b[0m\u001b[0;34m(\u001b[0m\u001b[0;34m)\u001b[0m\u001b[0;34m\u001b[0m\u001b[0;34m\u001b[0m\u001b[0m\n\u001b[0m",
            "\u001b[0;31mAttributeError\u001b[0m: 'numpy.ndarray' object has no attribute 'sort_values'"
          ]
        }
      ]
    },
    {
      "cell_type": "code",
      "metadata": {
        "id": "2359b5XuTGmz"
      },
      "source": [
        ""
      ],
      "execution_count": null,
      "outputs": []
    }
  ]
}