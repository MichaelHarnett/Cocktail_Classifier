{
  "nbformat": 4,
  "nbformat_minor": 0,
  "metadata": {
    "accelerator": "GPU",
    "colab": {
      "name": "final_modeling.ipynb",
      "provenance": [],
      "collapsed_sections": []
    },
    "kernelspec": {
      "display_name": "Python 3",
      "name": "python3"
    },
    "language_info": {
      "name": "python"
    }
  },
  "cells": [
    {
      "cell_type": "markdown",
      "metadata": {
        "id": "FK0JtbLLVui0"
      },
      "source": [
        "**PLEASE NOTE**\n",
        "This notebook is run in google colab, the file paths will not be the same if running from a jupyter notebook, "
      ]
    },
    {
      "cell_type": "code",
      "metadata": {
        "colab": {
          "base_uri": "https://localhost:8080/"
        },
        "id": "YnUhFSRdDF-I",
        "outputId": "a573fe8f-614a-47bd-d435-d8747db45885"
      },
      "source": [
        "# allows me to use photos from my custom dataset \n",
        "from google.colab import drive\n",
        "drive.mount('/content/drive')"
      ],
      "execution_count": 1,
      "outputs": [
        {
          "output_type": "stream",
          "text": [
            "Mounted at /content/drive\n"
          ],
          "name": "stdout"
        }
      ]
    },
    {
      "cell_type": "code",
      "metadata": {
        "id": "UwxS4tU6DwhG"
      },
      "source": [
        "#changes file path so less imbedded \n",
        "!unzip -uq /content/drive/MyDrive/cocktail_classifier/Data.zip"
      ],
      "execution_count": 2,
      "outputs": []
    },
    {
      "cell_type": "code",
      "metadata": {
        "id": "2Ygjy0fvD5MQ"
      },
      "source": [
        "###########\n",
        "# imports #\n",
        "###########\n",
        "\n",
        "import numpy as np \n",
        "import pandas as pd\n",
        "import tensorflow as tf\n",
        "from tensorflow import keras\n",
        "from keras import preprocessing, layers\n",
        "from keras.preprocessing.image import image_dataset_from_directory, ImageDataGenerator\n",
        "from keras.callbacks import History\n",
        "from keras.models import Sequential\n",
        "from keras.layers import Dense, Conv2D, MaxPooling2D, Flatten, GlobalAveragePooling2D, InputLayer, Dropout, AveragePooling2D, experimental\n",
        "import matplotlib\n",
        "import matplotlib.pyplot as plt\n",
        "\n"
      ],
      "execution_count": 3,
      "outputs": []
    },
    {
      "cell_type": "code",
      "metadata": {
        "colab": {
          "base_uri": "https://localhost:8080/"
        },
        "id": "uqy4oDMSD_PJ",
        "outputId": "21577770-6590-4985-b2b9-76e6fdcf7026"
      },
      "source": [
        "#generators allow augmentation of photos for each epoch\n",
        "# this helps my low data source\n",
        "\n",
        "#names of the classes I created\n",
        "class_list = [\n",
        " 'Aperol Spritz',\n",
        " 'Bloody Mary',\n",
        " 'Cosmo',\n",
        " 'Irish Coffee',\n",
        " 'Margarita',\n",
        " 'Mimosa',\n",
        " 'Mojito',\n",
        " 'Moscow Mule',\n",
        " 'Old Fashioned',\n",
        " 'Pina Colada']\n",
        "\n",
        "#Generator for training set. Allows for augmentation\n",
        "train_generator = keras.preprocessing.image.ImageDataGenerator(\n",
        "    rotation_range = 2,\n",
        "    width_shift_range = 2,\n",
        "    height_shift_range = 2,\n",
        "    zoom_range = .3,\n",
        "    horizontal_flip = True,\n",
        "    vertical_flip = False,\n",
        "    data_format = 'channels_last',\n",
        "    validation_split = .2\n",
        ")\n",
        "# Generator for validation set, the remaining 20% from above split\n",
        "val_generator = keras.preprocessing.image.ImageDataGenerator(\n",
        "    data_format = 'channels_last',\n",
        "    validation_split = .2\n",
        ")\n",
        "\n",
        "# test generator, will not have a split or augmentation.\n",
        "test_generator = keras.preprocessing.image.ImageDataGenerator(\n",
        "    data_format = 'channels_last'\n",
        ")\n",
        "\n",
        "\n",
        "# This is the actual data generated for training, uses the augmentation\n",
        "# signified in the train generator. This tells the generator where to pull\n",
        "# photos from, and how to format them\n",
        "flow_traindf = train_generator.flow_from_directory(\n",
        "    '/content/Data/Train Data',\n",
        "    target_size = (256, 256),\n",
        "    color_mode = 'rgb',\n",
        "    classes = class_list,\n",
        "    class_mode = 'categorical',\n",
        "    batch_size = 16,\n",
        "    seed = 7,\n",
        "    subset = 'training'\n",
        ")\n",
        "\n",
        "# This is\n",
        "flow_valdf = val_generator.flow_from_directory(\n",
        "    directory = '/content/Data/Train Data',\n",
        "    target_size = (256, 256),\n",
        "    color_mode = 'rgb',\n",
        "    classes = class_list,\n",
        "    class_mode = 'categorical',\n",
        "    batch_size = 16,\n",
        "    seed = 7,\n",
        "    subset = 'validation'\n",
        ")\n",
        "\n",
        "\n",
        "\n",
        "\n",
        "# And finally the test generator that the model will be evaluated on. \n",
        "flow_testdf = test_generator.flow_from_directory(\n",
        "    directory = '/content/Data/Test Data',\n",
        "    target_size = (256, 256),\n",
        "    color_mode = 'rgb',\n",
        "    classes = ['Aperol Test', 'Bloody Test', 'Cosmo Test', 'Irish Test', 'Margarita Test',\n",
        "               'Mimosa Test', 'Mojito Test', 'Mule Test', 'Fashioned Test', 'Pina Test'],\n",
        "    class_mode = 'categorical',\n",
        "    batch_size = 1,\n",
        "    shuffle = False,\n",
        ")\n"
      ],
      "execution_count": 4,
      "outputs": [
        {
          "output_type": "stream",
          "text": [
            "Found 2918 images belonging to 10 classes.\n",
            "Found 725 images belonging to 10 classes.\n",
            "Found 449 images belonging to 10 classes.\n"
          ],
          "name": "stdout"
        }
      ]
    },
    {
      "cell_type": "code",
      "metadata": {
        "colab": {
          "base_uri": "https://localhost:8080/"
        },
        "id": "5MWaQbXMEjru",
        "outputId": "36ae84ec-f9ae-4f04-84d7-cab883d4f961"
      },
      "source": [
        "model = Sequential()\n",
        "\n",
        "# Setting image size, and color channel\n",
        "model.add(InputLayer(input_shape = (256, 256, 3)))\n",
        "\n",
        "#Convolutional layers\n",
        "model.add(Conv2D(\n",
        "            filters=10,\n",
        "            kernel_size=3, \n",
        "            activation='relu', \n",
        "            padding='same'))\n",
        "\n",
        "\n",
        "model.add(Conv2D(\n",
        "            filters=20,\n",
        "            kernel_size=3, \n",
        "            activation='relu', \n",
        "            padding='same'))\n",
        "\n",
        "model.add(AveragePooling2D())\n",
        "\n",
        "model.add(Conv2D(\n",
        "            filters=40,\n",
        "            kernel_size=3, \n",
        "            activation='relu', \n",
        "            padding='same'))\n",
        "\n",
        "model.add(AveragePooling2D())\n",
        "\n",
        "model.add(Conv2D(\n",
        "            filters=60,\n",
        "            kernel_size=3, \n",
        "            activation='relu', \n",
        "            padding='same'))\n",
        "\n",
        "model.add(AveragePooling2D())\n",
        "\n",
        "model.add(Conv2D(\n",
        "            filters=100,\n",
        "            kernel_size=3, \n",
        "            activation='relu', \n",
        "            padding='same'))\n",
        "\n",
        "model.add(AveragePooling2D())\n",
        "\n",
        "#flatten image for Dense layers\n",
        "model.add(GlobalAveragePooling2D())\n",
        "\n",
        "\n",
        "# Dense layers\n",
        "model.add(Dense(100, activation = 'relu'))\n",
        "\n",
        "model.add(Dense(80, activation = 'relu'))\n",
        "\n",
        "model.add(Dense(40, activation='relu'))\n",
        "\n",
        "model.add(Dense(20, activation = 'relu'))\n",
        "\n",
        "model.add(Dropout(.20))\n",
        "\n",
        "model.add(Dense(10, activation='softmax'))  \n",
        "\n",
        "model.compile(\n",
        "    loss='categorical_crossentropy',\n",
        "    optimizer='adam',\n",
        "    metrics=['accuracy'],\n",
        ")\n",
        "\n",
        "\n",
        "history = model.fit(flow_traindf, epochs=25, verbose=1, validation_data=flow_valdf,\n",
        "           steps_per_epoch = 800, validation_steps = 300,\n",
        "       callbacks=[\n",
        "           keras.callbacks.ModelCheckpoint(\n",
        "               'models/mnist.{epoch:02d}-{val_loss:.2f}.hdf5',\n",
        "               save_best_only=True)\n",
        "       ])  # track progress as we fit"
      ],
      "execution_count": 5,
      "outputs": [
        {
          "output_type": "stream",
          "text": [
            "Epoch 1/25\n",
            "800/800 [==============================] - 208s 226ms/step - loss: 2.2444 - accuracy: 0.1568 - val_loss: 2.0540 - val_accuracy: 0.2364\n",
            "Epoch 2/25\n",
            "800/800 [==============================] - 178s 222ms/step - loss: 2.0587 - accuracy: 0.2251 - val_loss: 1.9224 - val_accuracy: 0.2810\n",
            "Epoch 3/25\n",
            "800/800 [==============================] - 179s 225ms/step - loss: 1.9417 - accuracy: 0.2565 - val_loss: 1.7977 - val_accuracy: 0.3052\n",
            "Epoch 4/25\n",
            "800/800 [==============================] - 177s 222ms/step - loss: 1.8250 - accuracy: 0.3117 - val_loss: 1.6403 - val_accuracy: 0.3784\n",
            "Epoch 5/25\n",
            "800/800 [==============================] - 180s 225ms/step - loss: 1.7170 - accuracy: 0.3467 - val_loss: 1.5224 - val_accuracy: 0.4742\n",
            "Epoch 6/25\n",
            "800/800 [==============================] - 179s 224ms/step - loss: 1.5704 - accuracy: 0.4265 - val_loss: 1.2781 - val_accuracy: 0.5801\n",
            "Epoch 7/25\n",
            "800/800 [==============================] - 179s 224ms/step - loss: 1.3831 - accuracy: 0.5158 - val_loss: 1.0582 - val_accuracy: 0.6531\n",
            "Epoch 8/25\n",
            "800/800 [==============================] - 180s 225ms/step - loss: 1.2244 - accuracy: 0.5749 - val_loss: 1.0408 - val_accuracy: 0.6653\n",
            "Epoch 9/25\n",
            "800/800 [==============================] - 177s 222ms/step - loss: 1.1164 - accuracy: 0.6179 - val_loss: 1.0751 - val_accuracy: 0.6527\n",
            "Epoch 10/25\n",
            "800/800 [==============================] - 180s 225ms/step - loss: 1.0246 - accuracy: 0.6459 - val_loss: 0.8850 - val_accuracy: 0.7368\n",
            "Epoch 11/25\n",
            "800/800 [==============================] - 177s 221ms/step - loss: 0.9614 - accuracy: 0.6784 - val_loss: 1.0172 - val_accuracy: 0.6791\n",
            "Epoch 12/25\n",
            "800/800 [==============================] - 180s 225ms/step - loss: 0.8966 - accuracy: 0.7037 - val_loss: 0.8426 - val_accuracy: 0.7567\n",
            "Epoch 13/25\n",
            "800/800 [==============================] - 178s 223ms/step - loss: 0.8272 - accuracy: 0.7277 - val_loss: 0.8426 - val_accuracy: 0.7296\n",
            "Epoch 14/25\n",
            "800/800 [==============================] - 179s 224ms/step - loss: 0.8177 - accuracy: 0.7296 - val_loss: 0.8855 - val_accuracy: 0.7144\n",
            "Epoch 15/25\n",
            "800/800 [==============================] - 178s 223ms/step - loss: 0.7438 - accuracy: 0.7570 - val_loss: 0.8440 - val_accuracy: 0.7561\n",
            "Epoch 16/25\n",
            "800/800 [==============================] - 179s 224ms/step - loss: 0.7289 - accuracy: 0.7609 - val_loss: 0.7815 - val_accuracy: 0.7600\n",
            "Epoch 17/25\n",
            "800/800 [==============================] - 179s 225ms/step - loss: 0.6733 - accuracy: 0.7833 - val_loss: 0.8306 - val_accuracy: 0.7677\n",
            "Epoch 18/25\n",
            "800/800 [==============================] - 178s 222ms/step - loss: 0.6143 - accuracy: 0.8035 - val_loss: 0.8438 - val_accuracy: 0.7636\n",
            "Epoch 19/25\n",
            "800/800 [==============================] - 179s 224ms/step - loss: 0.5685 - accuracy: 0.8190 - val_loss: 1.0928 - val_accuracy: 0.7398\n",
            "Epoch 20/25\n",
            "800/800 [==============================] - 178s 222ms/step - loss: 0.6297 - accuracy: 0.8086 - val_loss: 0.8926 - val_accuracy: 0.7602\n",
            "Epoch 21/25\n",
            "800/800 [==============================] - 179s 224ms/step - loss: 0.5515 - accuracy: 0.8192 - val_loss: 0.7947 - val_accuracy: 0.7711\n",
            "Epoch 22/25\n",
            "800/800 [==============================] - 179s 223ms/step - loss: 0.5224 - accuracy: 0.8336 - val_loss: 1.0664 - val_accuracy: 0.7647\n",
            "Epoch 23/25\n",
            "800/800 [==============================] - 179s 224ms/step - loss: 0.5035 - accuracy: 0.8427 - val_loss: 0.9181 - val_accuracy: 0.7870\n",
            "Epoch 24/25\n",
            "800/800 [==============================] - 179s 225ms/step - loss: 0.4509 - accuracy: 0.8585 - val_loss: 0.8884 - val_accuracy: 0.7895\n",
            "Epoch 25/25\n",
            "800/800 [==============================] - 180s 225ms/step - loss: 0.5747 - accuracy: 0.8156 - val_loss: 0.8822 - val_accuracy: 0.7983\n"
          ],
          "name": "stdout"
        }
      ]
    },
    {
      "cell_type": "code",
      "metadata": {
        "id": "jnqMdfhbEz63"
      },
      "source": [
        "model.save('/content/drive/MyDrive/cocktail_classifier/my_model.h5')"
      ],
      "execution_count": 6,
      "outputs": []
    },
    {
      "cell_type": "code",
      "metadata": {
        "id": "PVZdqbQucL4s",
        "colab": {
          "base_uri": "https://localhost:8080/",
          "height": 435
        },
        "outputId": "5828ca11-e045-4af4-8f75-6ada4385f2a1"
      },
      "source": [
        "# checking the learning curves\n",
        "acc = history.history['accuracy']\n",
        "val_acc = history.history['val_accuracy']\n",
        "loss = history.history['loss']\n",
        "val_loss = history.history['val_loss']\n",
        "\n",
        "epochs_range = range(25)\n",
        "\n",
        "plt.figure(figsize=(15, 15))\n",
        "plt.subplot(2, 2, 1)\n",
        "plt.plot(epochs_range, acc, label='Training Accuracy')\n",
        "plt.plot(epochs_range, val_acc, label='Validation Accuracy')\n",
        "plt.legend(loc='lower right')\n",
        "plt.title('Training and Validation Accuracy')\n",
        "\n",
        "plt.subplot(2, 2, 2)\n",
        "plt.plot(epochs_range, loss, label='Training Loss')\n",
        "plt.plot(epochs_range, val_loss, label='Validation Loss')\n",
        "plt.legend(loc='upper right')\n",
        "plt.title('Training and Validation Loss')\n",
        "plt.show()"
      ],
      "execution_count": 7,
      "outputs": [
        {
          "output_type": "display_data",
          "data": {
            "image/png": "[encoded data removed]",
            "text/plain": [
              "<Figure size 1080x1080 with 2 Axes>"
            ]
          },
          "metadata": {
            "tags": [],
            "needs_background": "light"
          }
        }
      ]
    },
    {
      "cell_type": "code",
      "metadata": {
        "colab": {
          "base_uri": "https://localhost:8080/"
        },
        "id": "-iHd5fvxyQGz",
        "outputId": "f46ae308-26cb-4c2c-d0bb-4f79ea9f0942"
      },
      "source": [
        "# Using the same steps from above epochs for fairness. \n",
        "model.evaluate(flow_testdf, steps = 800)"
      ],
      "execution_count": 9,
      "outputs": [
        {
          "output_type": "stream",
          "text": [
            "800/800 [==============================] - 3s 4ms/step - loss: 0.9379 - accuracy: 0.7337\n"
          ],
          "name": "stdout"
        },
        {
          "output_type": "execute_result",
          "data": {
            "text/plain": [
              "[0.9379237294197083, 0.7337499856948853]"
            ]
          },
          "metadata": {
            "tags": []
          },
          "execution_count": 9
        }
      ]
    },
    {
      "cell_type": "markdown",
      "metadata": {
        "id": "wHB1ZYQizWIW"
      },
      "source": [
        "So this verson of the model scored better on train and validation, a little bit lower on test set accuracy. I will need to correct for overfitting in the future, but I still have an app to build"
      ]
    },
    {
      "cell_type": "code",
      "metadata": {
        "id": "tSE0Dnj4zDU0"
      },
      "source": [
        ""
      ],
      "execution_count": null,
      "outputs": []
    }
  ]
}