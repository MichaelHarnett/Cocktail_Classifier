{
 "cells": [
  {
   "cell_type": "code",
   "execution_count": 6,
   "id": "d98142eb-6cd4-44a9-827b-288b65d6b373",
   "metadata": {},
   "outputs": [],
   "source": [
    "import numpy as np \n",
    "import pandas as pd\n",
    "import tensorflow as tf\n",
    "from tensorflow import keras\n",
    "from keras import preprocessing, layers\n",
    "from keras.preprocessing.image import image_dataset_from_directory, ImageDataGenerator, image\n",
    "\n",
    "from keras.models import Sequential\n",
    "from keras.layers import Dense, Conv2D, MaxPooling2D, Flatten, GlobalAveragePooling2D, InputLayer, Dropout, AveragePooling2D, experimental\n",
    "\n",
    "np.set_printoptions(suppress=True)"
   ]
  },
  {
   "cell_type": "code",
   "execution_count": 7,
   "id": "312207e0-a70c-40ad-b6da-09ef0ce460fc",
   "metadata": {},
   "outputs": [
    {
     "ename": "OSError",
     "evalue": "SavedModel file does not exist at: Data/my_model/saved_model.pb/{saved_model.pbtxt|saved_model.pb}",
     "output_type": "error",
     "traceback": [
      "\u001b[0;31m---------------------------------------------------------------------------\u001b[0m",
      "\u001b[0;31mOSError\u001b[0m                                   Traceback (most recent call last)",
      "\u001b[0;32m/var/folders/xl/ftndz_9j3hn5ybffb6t5q42m0000gn/T/ipykernel_1137/2360439793.py\u001b[0m in \u001b[0;36m<module>\u001b[0;34m\u001b[0m\n\u001b[0;32m----> 1\u001b[0;31m \u001b[0mmodel\u001b[0m \u001b[0;34m=\u001b[0m \u001b[0mtf\u001b[0m\u001b[0;34m.\u001b[0m\u001b[0mkeras\u001b[0m\u001b[0;34m.\u001b[0m\u001b[0mmodels\u001b[0m\u001b[0;34m.\u001b[0m\u001b[0mload_model\u001b[0m\u001b[0;34m(\u001b[0m\u001b[0;34m'Data/my_model/saved_model.pb'\u001b[0m\u001b[0;34m)\u001b[0m\u001b[0;34m\u001b[0m\u001b[0;34m\u001b[0m\u001b[0m\n\u001b[0m",
      "\u001b[0;32m~/opt/anaconda3/envs/metis/lib/python3.8/site-packages/tensorflow/python/keras/saving/save.py\u001b[0m in \u001b[0;36mload_model\u001b[0;34m(filepath, custom_objects, compile, options)\u001b[0m\n\u001b[1;32m    204\u001b[0m         \u001b[0mfilepath\u001b[0m \u001b[0;34m=\u001b[0m \u001b[0mpath_to_string\u001b[0m\u001b[0;34m(\u001b[0m\u001b[0mfilepath\u001b[0m\u001b[0;34m)\u001b[0m\u001b[0;34m\u001b[0m\u001b[0;34m\u001b[0m\u001b[0m\n\u001b[1;32m    205\u001b[0m         \u001b[0;32mif\u001b[0m \u001b[0misinstance\u001b[0m\u001b[0;34m(\u001b[0m\u001b[0mfilepath\u001b[0m\u001b[0;34m,\u001b[0m \u001b[0mstr\u001b[0m\u001b[0;34m)\u001b[0m\u001b[0;34m:\u001b[0m\u001b[0;34m\u001b[0m\u001b[0;34m\u001b[0m\u001b[0m\n\u001b[0;32m--> 206\u001b[0;31m           \u001b[0;32mreturn\u001b[0m \u001b[0msaved_model_load\u001b[0m\u001b[0;34m.\u001b[0m\u001b[0mload\u001b[0m\u001b[0;34m(\u001b[0m\u001b[0mfilepath\u001b[0m\u001b[0;34m,\u001b[0m \u001b[0mcompile\u001b[0m\u001b[0;34m,\u001b[0m \u001b[0moptions\u001b[0m\u001b[0;34m)\u001b[0m\u001b[0;34m\u001b[0m\u001b[0;34m\u001b[0m\u001b[0m\n\u001b[0m\u001b[1;32m    207\u001b[0m \u001b[0;34m\u001b[0m\u001b[0m\n\u001b[1;32m    208\u001b[0m   raise IOError(\n",
      "\u001b[0;32m~/opt/anaconda3/envs/metis/lib/python3.8/site-packages/tensorflow/python/keras/saving/saved_model/load.py\u001b[0m in \u001b[0;36mload\u001b[0;34m(path, compile, options)\u001b[0m\n\u001b[1;32m    119\u001b[0m   \u001b[0;31m# Look for metadata file or parse the SavedModel\u001b[0m\u001b[0;34m\u001b[0m\u001b[0;34m\u001b[0m\u001b[0;34m\u001b[0m\u001b[0m\n\u001b[1;32m    120\u001b[0m   \u001b[0mmetadata\u001b[0m \u001b[0;34m=\u001b[0m \u001b[0msaved_metadata_pb2\u001b[0m\u001b[0;34m.\u001b[0m\u001b[0mSavedMetadata\u001b[0m\u001b[0;34m(\u001b[0m\u001b[0;34m)\u001b[0m\u001b[0;34m\u001b[0m\u001b[0;34m\u001b[0m\u001b[0m\n\u001b[0;32m--> 121\u001b[0;31m   \u001b[0mmeta_graph_def\u001b[0m \u001b[0;34m=\u001b[0m \u001b[0mloader_impl\u001b[0m\u001b[0;34m.\u001b[0m\u001b[0mparse_saved_model\u001b[0m\u001b[0;34m(\u001b[0m\u001b[0mpath\u001b[0m\u001b[0;34m)\u001b[0m\u001b[0;34m.\u001b[0m\u001b[0mmeta_graphs\u001b[0m\u001b[0;34m[\u001b[0m\u001b[0;36m0\u001b[0m\u001b[0;34m]\u001b[0m\u001b[0;34m\u001b[0m\u001b[0;34m\u001b[0m\u001b[0m\n\u001b[0m\u001b[1;32m    122\u001b[0m   \u001b[0mobject_graph_def\u001b[0m \u001b[0;34m=\u001b[0m \u001b[0mmeta_graph_def\u001b[0m\u001b[0;34m.\u001b[0m\u001b[0mobject_graph_def\u001b[0m\u001b[0;34m\u001b[0m\u001b[0;34m\u001b[0m\u001b[0m\n\u001b[1;32m    123\u001b[0m   \u001b[0mpath_to_metadata_pb\u001b[0m \u001b[0;34m=\u001b[0m \u001b[0mos\u001b[0m\u001b[0;34m.\u001b[0m\u001b[0mpath\u001b[0m\u001b[0;34m.\u001b[0m\u001b[0mjoin\u001b[0m\u001b[0;34m(\u001b[0m\u001b[0mpath\u001b[0m\u001b[0;34m,\u001b[0m \u001b[0mconstants\u001b[0m\u001b[0;34m.\u001b[0m\u001b[0mSAVED_METADATA_PATH\u001b[0m\u001b[0;34m)\u001b[0m\u001b[0;34m\u001b[0m\u001b[0;34m\u001b[0m\u001b[0m\n",
      "\u001b[0;32m~/opt/anaconda3/envs/metis/lib/python3.8/site-packages/tensorflow/python/saved_model/loader_impl.py\u001b[0m in \u001b[0;36mparse_saved_model\u001b[0;34m(export_dir)\u001b[0m\n\u001b[1;32m    111\u001b[0m       \u001b[0;32mraise\u001b[0m \u001b[0mIOError\u001b[0m\u001b[0;34m(\u001b[0m\u001b[0;34m\"Cannot parse file %s: %s.\"\u001b[0m \u001b[0;34m%\u001b[0m \u001b[0;34m(\u001b[0m\u001b[0mpath_to_pbtxt\u001b[0m\u001b[0;34m,\u001b[0m \u001b[0mstr\u001b[0m\u001b[0;34m(\u001b[0m\u001b[0me\u001b[0m\u001b[0;34m)\u001b[0m\u001b[0;34m)\u001b[0m\u001b[0;34m)\u001b[0m\u001b[0;34m\u001b[0m\u001b[0;34m\u001b[0m\u001b[0m\n\u001b[1;32m    112\u001b[0m   \u001b[0;32melse\u001b[0m\u001b[0;34m:\u001b[0m\u001b[0;34m\u001b[0m\u001b[0;34m\u001b[0m\u001b[0m\n\u001b[0;32m--> 113\u001b[0;31m     raise IOError(\n\u001b[0m\u001b[1;32m    114\u001b[0m         \u001b[0;34m\"SavedModel file does not exist at: %s%s{%s|%s}\"\u001b[0m \u001b[0;34m%\u001b[0m\u001b[0;34m\u001b[0m\u001b[0;34m\u001b[0m\u001b[0m\n\u001b[1;32m    115\u001b[0m         (export_dir, os.path.sep, constants.SAVED_MODEL_FILENAME_PBTXT,\n",
      "\u001b[0;31mOSError\u001b[0m: SavedModel file does not exist at: Data/my_model/saved_model.pb/{saved_model.pbtxt|saved_model.pb}"
     ]
    }
   ],
   "source": [
    "model = tf.keras.models.load_model('Data/my_model/saved_model.pb')"
   ]
  },
  {
   "cell_type": "code",
   "execution_count": 78,
   "id": "c8874dd7-820e-42e3-a2df-feaf574b3cf4",
   "metadata": {},
   "outputs": [
    {
     "data": {
      "text/plain": [
       "['Aperol Spritz',\n",
       " 'Bloody Mary',\n",
       " 'Cosmo',\n",
       " 'Irish Coffee',\n",
       " 'Margarita',\n",
       " 'Mimosa',\n",
       " 'Mojito',\n",
       " 'Moscow Mule',\n",
       " 'Old Fashioned',\n",
       " 'Pina Colada']"
      ]
     },
     "execution_count": 78,
     "metadata": {},
     "output_type": "execute_result"
    }
   ],
   "source": [
    "label_names"
   ]
  },
  {
   "cell_type": "code",
   "execution_count": 3,
   "id": "384b36c8-90aa-48ea-922d-fbf71b9ebf75",
   "metadata": {},
   "outputs": [
    {
     "name": "stdout",
     "output_type": "stream",
     "text": [
      "Found 2918 images belonging to 10 classes.\n",
      "Found 725 images belonging to 10 classes.\n"
     ]
    }
   ],
   "source": [
    "train_generator = keras.preprocessing.image.ImageDataGenerator(\n",
    "    rotation_range = 2,\n",
    "    width_shift_range = 2,\n",
    "    height_shift_range = 2,\n",
    "    zoom_range = .3,\n",
    "    horizontal_flip = True,\n",
    "    vertical_flip = False,\n",
    "    data_format = 'channels_last',\n",
    "    validation_split = .2\n",
    ")\n",
    "\n",
    "val_generator = keras.preprocessing.image.ImageDataGenerator(\n",
    "    data_format = 'channels_last',\n",
    "    validation_split = .2\n",
    ")\n",
    "\n",
    "\n",
    "\n",
    "flow_traindf = train_generator.flow_from_directory(\n",
    "    'Data/Train Data',\n",
    "    target_size = (256, 256),\n",
    "    color_mode = 'rgb',\n",
    "    #classes,\n",
    "    class_mode = 'categorical',\n",
    "    batch_size = 16,\n",
    "    seed = 7,\n",
    "    subset = 'training'\n",
    ")\n",
    "\n",
    "\n",
    "flow_valdf = val_generator.flow_from_directory(\n",
    "    directory = 'Data/Train Data',\n",
    "    target_size = (256, 256),\n",
    "    color_mode = 'rgb',\n",
    "    #classes,\n",
    "    class_mode = 'categorical',\n",
    "    batch_size = 16,\n",
    "    seed = 7,\n",
    "    subset = 'validation'\n",
    ")\n"
   ]
  },
  {
   "cell_type": "code",
   "execution_count": 45,
   "id": "c830ca99-b556-44bf-a9d6-bcff39f32a90",
   "metadata": {},
   "outputs": [
    {
     "name": "stdout",
     "output_type": "stream",
     "text": [
      "Found 499 images belonging to 10 classes.\n",
      "Found 443 images belonging to 1 classes.\n"
     ]
    }
   ],
   "source": [
    "test_generator = keras.preprocessing.image.ImageDataGenerator(\n",
    "    data_format = 'channels_last'\n",
    ")\n",
    "\n",
    "flow_testdf = test_generator.flow_from_directory(\n",
    "    directory = 'Data/Test Data',\n",
    "    target_size = (256, 256),\n",
    "    color_mode = 'rgb',\n",
    "    classes = ['Aperol Test', 'Bloody Test', 'Cosmo Test', 'Fashioned Test', 'Irish Test',\n",
    "               'Marg Test', 'Mimosa Test', 'Mojito Test', 'Mule Test', 'Pina Test'],\n",
    "    class_mode = 'categorical',\n",
    "    batch_size = 16,\n",
    "    \n",
    ")\n",
    "\n",
    "\n",
    "test_df = test_generator.flow_from_directory(\n",
    "    directory= 'data/All',\n",
    "    target_size=(256, 256),\n",
    "    color_mode=\"rgb\",\n",
    "    batch_size=16,\n",
    "    class_mode=None,\n",
    "    shuffle=False\n",
    ")"
   ]
  },
  {
   "cell_type": "code",
   "execution_count": 11,
   "id": "cb18c6db-8ce4-478f-a7a8-fa3227e662ed",
   "metadata": {},
   "outputs": [],
   "source": [
    "def prepare_image(img_path):\n",
    "\n",
    "    img = image.load_img(img_path, target_size=(256, 256, 3))\n",
    "    x = image.img_to_array(img)\n",
    "    x = np.expand_dims(x, axis=0)\n",
    "    #x = mobilenet_v2.preprocess_input(x)\n",
    "    return x\n",
    "x = prepare_image(r'/users/michaelharnett/desktop/test photo.jpg')"
   ]
  },
  {
   "cell_type": "code",
   "execution_count": 5,
   "id": "c63d535d-ad9a-482f-b110-e1124f69a89e",
   "metadata": {},
   "outputs": [
    {
     "name": "stderr",
     "output_type": "stream",
     "text": [
      "2021-07-09 02:56:16.149932: I tensorflow/compiler/mlir/mlir_graph_optimization_pass.cc:176] None of the MLIR Optimization Passes are enabled (registered 2)\n"
     ]
    },
    {
     "data": {
      "text/plain": [
       "array([[0.        , 0.00000016, 0.        , ..., 0.9999999 , 0.        ,\n",
       "        0.        ],\n",
       "       [0.02379708, 0.04084579, 0.29411098, ..., 0.0478527 , 0.03135064,\n",
       "        0.01569838],\n",
       "       [0.9993079 , 0.00000432, 0.0003334 , ..., 0.        , 0.00032056,\n",
       "        0.00000003],\n",
       "       ...,\n",
       "       [0.0435758 , 0.02073705, 0.83902264, ..., 0.00722162, 0.02492352,\n",
       "        0.02810748],\n",
       "       [0.        , 0.00000002, 0.        , ..., 1.        , 0.        ,\n",
       "        0.        ],\n",
       "       [0.00006087, 0.0039636 , 0.0055366 , ..., 0.93904275, 0.00176936,\n",
       "        0.01510162]], dtype=float32)"
      ]
     },
     "execution_count": 5,
     "metadata": {},
     "output_type": "execute_result"
    }
   ],
   "source": [
    "model.predict(test_df)"
   ]
  },
  {
   "cell_type": "code",
   "execution_count": 22,
   "id": "75b0e142-6d62-48e9-b6f3-8248fa49464f",
   "metadata": {},
   "outputs": [
    {
     "data": {
      "text/plain": [
       "array([[0.2662776 , 0.03511807, 0.00949714, 0.00225272, 0.00002951,\n",
       "        0.00855223, 0.00000005, 0.00179788, 0.67050576, 0.00596903]],\n",
       "      dtype=float32)"
      ]
     },
     "execution_count": 22,
     "metadata": {},
     "output_type": "execute_result"
    }
   ],
   "source": [
    "pred = np.sort(model.predict(x), axis=0)\n",
    "pred\n"
   ]
  },
  {
   "cell_type": "code",
   "execution_count": 26,
   "id": "3d419829-fbab-4c43-b820-df1374a8cad4",
   "metadata": {},
   "outputs": [],
   "source": [
    "x = prepare_image(r'/users/michaelharnett/desktop/coffee_tester.jpg')"
   ]
  },
  {
   "cell_type": "code",
   "execution_count": 28,
   "id": "aaaf2628-529a-4229-a2a2-acaa600d2cf3",
   "metadata": {},
   "outputs": [
    {
     "data": {
      "text/plain": [
       "array([[0.00837   , 0.00301558, 0.08026668, 0.45634362, 0.01264305,\n",
       "        0.01547371, 0.0000288 , 0.00594983, 0.30000728, 0.11790148]],\n",
       "      dtype=float32)"
      ]
     },
     "execution_count": 28,
     "metadata": {},
     "output_type": "execute_result"
    }
   ],
   "source": [
    "model.predict(x)"
   ]
  },
  {
   "cell_type": "code",
   "execution_count": 29,
   "id": "557fc91d-467b-4464-b4a7-7e75122102ad",
   "metadata": {},
   "outputs": [],
   "source": [
    "x = prepare_image(r'/users/michaelharnett/desktop/mojitotest.jpg')"
   ]
  },
  {
   "cell_type": "code",
   "execution_count": 35,
   "id": "cccf9765-1e7e-4efe-89eb-82b0fd2db363",
   "metadata": {},
   "outputs": [
    {
     "data": {
      "text/plain": [
       "array([[0.0000001 , 0.0000031 , 0.00088176, 0.00306172, 0.05236446,\n",
       "        0.00002219, 0.8253399 , 0.11623047, 0.00000132, 0.00209491]],\n",
       "      dtype=float32)"
      ]
     },
     "execution_count": 35,
     "metadata": {},
     "output_type": "execute_result"
    }
   ],
   "source": [
    "model.predict(x)"
   ]
  },
  {
   "cell_type": "code",
   "execution_count": 34,
   "id": "4ae6915f-bd3b-4ac3-97f5-38d01d7a6d24",
   "metadata": {},
   "outputs": [
    {
     "data": {
      "text/plain": [
       "array([[0, 8, 1, 5, 2, 9, 3, 4, 7, 6]])"
      ]
     },
     "execution_count": 34,
     "metadata": {},
     "output_type": "execute_result"
    }
   ],
   "source": [
    "model.predict(x).argsort()"
   ]
  },
  {
   "cell_type": "code",
   "execution_count": 37,
   "id": "fbefa94c-0a47-4750-a924-365541f4ea59",
   "metadata": {},
   "outputs": [],
   "source": [
    "label_map = {\n",
    " 'Aperol Spritz': 0,\n",
    " 'Bloody Mary': 1,\n",
    " 'Cosmo': 2,\n",
    " 'Irish Coffee': 3,\n",
    " 'Margarita': 4,\n",
    " 'Mimosa': 5,\n",
    " 'Mojito': 6,\n",
    " 'Moscow Mule': 7,\n",
    " 'Old Fashioned': 8,\n",
    " 'Pina Colada': 9\n",
    "}"
   ]
  },
  {
   "cell_type": "code",
   "execution_count": 38,
   "id": "b177a64d-e399-4057-a72b-fa7b83d548eb",
   "metadata": {},
   "outputs": [],
   "source": [
    "tester = model.predict(x).argsort()"
   ]
  },
  {
   "cell_type": "code",
   "execution_count": 49,
   "id": "8a94954c-24b9-43a8-a901-6c30882a3524",
   "metadata": {},
   "outputs": [
    {
     "data": {
      "text/plain": [
       "[6, 7, 4]"
      ]
     },
     "execution_count": 49,
     "metadata": {},
     "output_type": "execute_result"
    }
   ],
   "source": [
    "#top 3!\n",
    "list(tester[0])[-1:-4:-1]"
   ]
  },
  {
   "cell_type": "code",
   "execution_count": 75,
   "id": "b74d19d0-5349-4ff5-bfbd-7a49b9bbc260",
   "metadata": {},
   "outputs": [
    {
     "data": {
      "text/plain": [
       "['Aperol Spritz',\n",
       " 'Bloody Mary',\n",
       " 'Cosmo',\n",
       " 'Irish Coffee',\n",
       " 'Margarita',\n",
       " 'Mimosa',\n",
       " 'Mojito',\n",
       " 'Moscow Mule',\n",
       " 'Old Fashioned',\n",
       " 'Pina Colada']"
      ]
     },
     "execution_count": 75,
     "metadata": {},
     "output_type": "execute_result"
    }
   ],
   "source": [
    "label_names = list(label_map.keys())\n",
    "label_names"
   ]
  },
  {
   "cell_type": "code",
   "execution_count": 63,
   "id": "59ea742b-5b04-4031-95b8-80bd79887435",
   "metadata": {},
   "outputs": [
    {
     "ename": "TypeError",
     "evalue": "only integer scalar arrays can be converted to a scalar index",
     "output_type": "error",
     "traceback": [
      "\u001b[0;31m---------------------------------------------------------------------------\u001b[0m",
      "\u001b[0;31mTypeError\u001b[0m                                 Traceback (most recent call last)",
      "\u001b[0;32m/var/folders/xl/ftndz_9j3hn5ybffb6t5q42m0000gn/T/ipykernel_8581/4267756290.py\u001b[0m in \u001b[0;36m<module>\u001b[0;34m\u001b[0m\n\u001b[0;32m----> 1\u001b[0;31m \u001b[0mlabel_names\u001b[0m\u001b[0;34m[\u001b[0m\u001b[0;34m(\u001b[0m\u001b[0mmodel\u001b[0m\u001b[0;34m.\u001b[0m\u001b[0mpredict\u001b[0m\u001b[0;34m(\u001b[0m\u001b[0mx\u001b[0m\u001b[0;34m)\u001b[0m\u001b[0;34m)\u001b[0m\u001b[0;34m]\u001b[0m\u001b[0;34m\u001b[0m\u001b[0;34m\u001b[0m\u001b[0m\n\u001b[0m",
      "\u001b[0;31mTypeError\u001b[0m: only integer scalar arrays can be converted to a scalar index"
     ]
    }
   ],
   "source": [
    "label_names[(model.predict(x))]"
   ]
  },
  {
   "cell_type": "code",
   "execution_count": 65,
   "id": "7864a66e-e41f-4322-8a89-1f701d894a26",
   "metadata": {},
   "outputs": [
    {
     "name": "stdout",
     "output_type": "stream",
     "text": [
      "0\n",
      "[0.0000001  0.0000031  0.00088176 0.00306172 0.05236446 0.00002219\n",
      " 0.8253399  0.11623047 0.00000132 0.00209491]\n"
     ]
    }
   ],
   "source": [
    "predictions = list(model.predict(x))\n",
    "for idx, y in enumerate(predictions):\n",
    "    print(idx)\n",
    "    print(y)"
   ]
  },
  {
   "cell_type": "code",
   "execution_count": 73,
   "id": "e0764bdc-64e6-4aa9-8eff-549c6c87a9e4",
   "metadata": {},
   "outputs": [],
   "source": [
    "preds = list(model.predict(x)[0])"
   ]
  },
  {
   "cell_type": "code",
   "execution_count": 9,
   "id": "83b6b52b-fc21-4996-92c6-05a3225c11dc",
   "metadata": {},
   "outputs": [
    {
     "ename": "AttributeError",
     "evalue": "'ImageDataGenerator' object has no attribute 'reset'",
     "output_type": "error",
     "traceback": [
      "\u001b[0;31m---------------------------------------------------------------------------\u001b[0m",
      "\u001b[0;31mAttributeError\u001b[0m                            Traceback (most recent call last)",
      "\u001b[0;32m/var/folders/xl/ftndz_9j3hn5ybffb6t5q42m0000gn/T/ipykernel_9119/2994745364.py\u001b[0m in \u001b[0;36m<module>\u001b[0;34m\u001b[0m\n\u001b[0;32m----> 1\u001b[0;31m \u001b[0mtest_generator\u001b[0m\u001b[0;34m.\u001b[0m\u001b[0mreset\u001b[0m\u001b[0;34m(\u001b[0m\u001b[0;34m)\u001b[0m\u001b[0;34m\u001b[0m\u001b[0;34m\u001b[0m\u001b[0m\n\u001b[0m",
      "\u001b[0;31mAttributeError\u001b[0m: 'ImageDataGenerator' object has no attribute 'reset'"
     ]
    }
   ],
   "source": []
  },
  {
   "cell_type": "code",
   "execution_count": 5,
   "id": "d3242f43-51ae-4198-b819-bc5175a0346c",
   "metadata": {},
   "outputs": [
    {
     "name": "stderr",
     "output_type": "stream",
     "text": [
      "2021-07-09 03:13:36.392761: I tensorflow/compiler/mlir/mlir_graph_optimization_pass.cc:176] None of the MLIR Optimization Passes are enabled (registered 2)\n"
     ]
    }
   ],
   "source": [
    "preds = model.predict(test_df)"
   ]
  },
  {
   "cell_type": "code",
   "execution_count": 6,
   "id": "9020c820-eed1-4400-8a0c-f2757ee09cf7",
   "metadata": {},
   "outputs": [],
   "source": [
    "predicted_class_indices=np.argmax(preds,axis=1)"
   ]
  },
  {
   "cell_type": "code",
   "execution_count": 7,
   "id": "f0f3fee6-d1c5-4eb8-93a3-629357b69bba",
   "metadata": {},
   "outputs": [
    {
     "data": {
      "text/plain": [
       "array([7, 5, 0, 0, 6, 8, 1, 8, 5, 5, 8, 6, 5, 2, 7, 3, 9, 9, 8, 3, 4, 9,\n",
       "       1, 7, 2, 5, 7, 9, 3, 8, 8, 0, 8, 3, 6, 8, 0, 3, 3, 7, 7, 9, 3, 9,\n",
       "       7, 9, 3, 5, 4, 7, 2, 4, 5, 7, 7, 9, 2, 5, 9, 7, 7, 5, 1, 1, 5, 1,\n",
       "       1, 5, 5, 0, 4, 1, 1, 9, 5, 5, 5, 7, 0, 2, 7, 1, 7, 2, 5, 4, 1, 1,\n",
       "       1, 8, 0, 1, 0, 8, 5, 1, 2, 7, 2, 7, 1, 8, 3, 1, 1, 5, 9, 5, 7, 9,\n",
       "       3, 9, 9, 9, 7, 9, 5, 8, 9, 1, 9, 4, 4, 8, 1, 1, 5, 5, 5, 5, 5, 4,\n",
       "       5, 1, 1, 2, 2, 7, 2, 2, 2, 2, 2, 2, 2, 2, 2, 2, 2, 9, 2, 2, 2, 2,\n",
       "       2, 2, 2, 2, 2, 2, 2, 2, 6, 2, 2, 2, 2, 1, 7, 1, 1, 5, 1, 7, 5, 2,\n",
       "       2, 1, 9, 8, 3, 3, 5, 8, 3, 7, 7, 7, 5, 6, 8, 3, 5, 8, 5, 7, 4, 1,\n",
       "       9, 7, 0, 8, 5, 4, 5, 5, 3, 3, 1, 5, 1, 7, 2, 3, 9, 7, 0, 3, 7, 0,\n",
       "       7, 5, 0, 5, 0, 1, 1, 4, 5, 5, 7, 7, 3, 8, 3, 1, 8, 5, 0, 7, 2, 7,\n",
       "       3, 9, 6, 7, 7, 0, 5, 1, 7, 7, 1, 7, 8, 3, 6, 9, 5, 7, 9, 8, 7, 7,\n",
       "       6, 6, 6, 6, 6, 6, 6, 6, 6, 6, 6, 6, 4, 6, 6, 6, 6, 6, 6, 6, 6, 6,\n",
       "       6, 2, 2, 2, 2, 2, 2, 2, 2, 2, 2, 2, 2, 2, 2, 2, 2, 1, 8, 2, 4, 4,\n",
       "       4, 4, 4, 4, 4, 6, 4, 4, 4, 4, 4, 4, 4, 4, 4, 4, 4, 5, 8, 8, 0, 8,\n",
       "       7, 8, 0, 2, 8, 8, 8, 3, 6, 8, 5, 7, 8, 4, 8, 8, 9, 8, 8, 9, 5, 9,\n",
       "       5, 2, 9, 9, 1, 9, 9, 9, 7, 4, 9, 3, 3, 5, 3, 3, 3, 7, 3, 9, 3, 3,\n",
       "       4, 4, 3, 3, 3, 3, 3, 3, 3, 8, 3, 3, 4, 5, 3, 5, 5, 5, 5, 5, 8, 5,\n",
       "       5, 5, 2, 0, 0, 5, 0, 8, 0, 0, 8, 0, 0, 0, 0, 0, 8, 0, 0, 0, 0, 0,\n",
       "       0, 0, 8, 5, 0, 2, 0, 0, 0, 6, 0, 1, 1, 1, 2, 7, 7, 7, 7, 7, 7, 7,\n",
       "       2, 7, 7])"
      ]
     },
     "execution_count": 7,
     "metadata": {},
     "output_type": "execute_result"
    }
   ],
   "source": [
    "predicted_class_indices"
   ]
  },
  {
   "cell_type": "code",
   "execution_count": 16,
   "id": "bc4ad728-9aee-4848-8e85-893825ed75f7",
   "metadata": {},
   "outputs": [],
   "source": [
    "labels = (flow_traindf.class_indices)\n",
    "labels = dict((v,k) for k,v in labels.items())\n",
    "predictions = [labels[k] for k in predicted_class_indices]"
   ]
  },
  {
   "cell_type": "code",
   "execution_count": 14,
   "id": "f545e9a7-3cac-4f54-8fab-051b8d49d97c",
   "metadata": {},
   "outputs": [
    {
     "data": {
      "text/plain": [
       "['Marg Test', 'Cosmo Test', 'Marg Test', 'Fashioned Test', 'Pina Test']"
      ]
     },
     "execution_count": 14,
     "metadata": {},
     "output_type": "execute_result"
    }
   ],
   "source": [
    "predictions[:5]"
   ]
  },
  {
   "cell_type": "code",
   "execution_count": 20,
   "id": "26af3cb6-cb5b-40f7-bcd1-496225966ae4",
   "metadata": {},
   "outputs": [],
   "source": [
    "flow_preds = model.predict(flow_testdf)\n",
    "predicted_classes=np.argmax(flow_preds,axis=1)"
   ]
  },
  {
   "cell_type": "code",
   "execution_count": 12,
   "id": "73fe2858-4556-45bf-b1c3-d11f4e1e3fa4",
   "metadata": {},
   "outputs": [
    {
     "data": {
      "text/plain": [
       "array([5, 2, 5, 3, 9, 6, 3, 7, 2, 3, 9, 7, 5, 3, 5, 7, 2, 2, 6, 3, 1, 6,\n",
       "       5, 2, 7, 6, 7, 6, 7, 6, 2, 5, 0, 0, 5, 7, 4, 3, 8, 6, 8, 5, 0, 9,\n",
       "       4, 7, 7, 9, 9, 6, 9, 9, 3, 2, 4, 8, 3, 0, 7, 4, 5, 2, 5, 4, 1, 3,\n",
       "       7, 4, 1, 4, 0, 6, 1, 2, 8, 6, 0, 7, 3, 4, 4, 0, 7, 6, 3, 7, 2, 7,\n",
       "       5, 6, 7, 5, 5, 2, 9, 8, 5, 0, 5, 4, 2, 1, 6, 5, 4, 6, 2, 1, 0, 8,\n",
       "       3, 4, 6, 6, 4, 6, 9, 3, 2, 6, 8, 4, 9, 5, 5, 9, 9, 3, 6, 2, 9, 9,\n",
       "       7, 7, 8, 7, 9, 8, 7, 5, 1, 8, 9, 4, 4, 8, 4, 0, 6, 0, 0, 7, 6, 7,\n",
       "       5, 1, 1, 7, 1, 2, 1, 4, 5, 2, 4, 5, 8, 1, 1, 7, 0, 3, 4, 7, 1, 2,\n",
       "       8, 0, 3, 9, 5, 2, 5, 1, 3, 5, 5, 6, 2, 1, 4, 5, 0, 9, 4, 7, 9, 2,\n",
       "       7, 6, 2, 5, 7, 2, 7, 0, 4, 9, 2, 2, 5, 5, 6, 8, 4, 7, 6, 2, 2, 8,\n",
       "       2, 0, 2, 2, 5, 0, 4, 8, 9, 8, 5, 7, 1, 3, 6, 6, 2, 2, 7, 4, 5, 8,\n",
       "       5, 0, 0, 2, 2, 4, 2, 2, 5, 8, 1, 6, 0, 5, 5, 8, 2, 6, 6, 8, 4, 2,\n",
       "       4, 1, 5, 2, 7, 2, 0, 8, 1, 7, 4, 1, 2, 5, 1, 5, 5, 1, 5, 2, 6, 6,\n",
       "       6, 4, 3, 5, 5, 8, 2, 3, 5, 7, 2, 0, 3, 1, 7, 4, 2, 8, 9, 1, 8, 6,\n",
       "       5, 7, 6, 1, 0, 4, 2, 8, 4, 4, 0, 4, 7, 3, 4, 5, 7, 4, 3, 4, 3, 4,\n",
       "       2, 5, 9, 8, 7, 6, 8, 4, 1, 2, 3, 8, 8, 1, 6, 3, 1, 0, 7, 1, 9, 6,\n",
       "       6, 0, 5, 8, 9, 8, 2, 1, 3, 1, 9, 5, 2, 0, 3, 0, 7, 2, 6, 4, 7, 6,\n",
       "       4, 0, 4, 6, 6, 4, 9, 6, 1, 0, 7, 0, 4, 6, 4, 2, 4, 3, 8, 3, 2, 0,\n",
       "       3, 2, 7, 3, 6, 7, 1, 8, 8, 4, 4, 1, 3, 6, 1, 7, 5, 8, 6, 0, 7, 3,\n",
       "       3, 9, 8, 7, 6, 9, 6, 6, 7, 4, 5, 6, 6, 0, 3, 2, 9, 4, 8, 4, 7, 3,\n",
       "       7, 4, 2, 6, 5, 8, 2, 1, 4, 5, 4, 9, 7, 9, 0, 2, 9, 7, 7, 4, 5, 5,\n",
       "       5, 3, 8, 2, 3, 6, 3, 7, 4, 3, 4, 9, 1, 2, 2, 0, 9, 6, 5, 5, 6, 9,\n",
       "       2, 1, 6, 1, 8, 6, 6, 3, 4, 2, 0, 8, 4, 2, 0])"
      ]
     },
     "execution_count": 12,
     "metadata": {},
     "output_type": "execute_result"
    }
   ],
   "source": [
    "predicted_class_indices"
   ]
  },
  {
   "cell_type": "code",
   "execution_count": 44,
   "id": "4e1756ce-8c38-4136-8057-0e6bda46595a",
   "metadata": {},
   "outputs": [],
   "source": [
    "true_classes = flow_testdf.classes\n",
    "class_labels = list(flow_testdf.class_indices.keys())"
   ]
  },
  {
   "cell_type": "code",
   "execution_count": 31,
   "id": "acdbd9c2-7209-41ed-8f00-3bd897259040",
   "metadata": {},
   "outputs": [],
   "source": [
    "class_array = np.array(true_classes).reshape(499,1)\n"
   ]
  },
  {
   "cell_type": "code",
   "execution_count": 40,
   "id": "ceb659bc-56ee-4c8d-b75c-1b13321fc334",
   "metadata": {},
   "outputs": [],
   "source": [
    "#(true_classes).reshape(499,1)\n"
   ]
  },
  {
   "cell_type": "code",
   "execution_count": 22,
   "id": "4bd63cf0-ef46-4239-88f8-c293eb9f19d4",
   "metadata": {},
   "outputs": [],
   "source": [
    "from sklearn import metrics\n",
    "from sklearn.metrics import *"
   ]
  },
  {
   "cell_type": "code",
   "execution_count": 23,
   "id": "22f6f361-a2ca-49e7-acaf-b7e23f0a6f76",
   "metadata": {},
   "outputs": [
    {
     "name": "stdout",
     "output_type": "stream",
     "text": [
      "                precision    recall  f1-score   support\n",
      "\n",
      "   Aperol Test       0.05      0.04      0.04        50\n",
      "   Bloody Test       0.10      0.08      0.09        50\n",
      "    Cosmo Test       0.08      0.10      0.09        50\n",
      "Fashioned Test       0.17      0.14      0.15        50\n",
      "    Irish Test       0.11      0.14      0.13        50\n",
      "     Marg Test       0.07      0.08      0.07        50\n",
      "   Mimosa Test       0.03      0.04      0.04        50\n",
      "   Mojito Test       0.11      0.12      0.11        49\n",
      "     Mule Test       0.07      0.06      0.07        50\n",
      "     Pina Test       0.06      0.04      0.05        50\n",
      "\n",
      "      accuracy                           0.08       499\n",
      "     macro avg       0.08      0.08      0.08       499\n",
      "  weighted avg       0.08      0.08      0.08       499\n",
      "\n"
     ]
    }
   ],
   "source": [
    "report = metrics.classification_report(true_classes, predicted_classes, target_names=class_labels)\n",
    "print(report)    "
   ]
  },
  {
   "cell_type": "code",
   "execution_count": 42,
   "id": "214c671f-4bf1-42cc-b320-1d39cd501886",
   "metadata": {},
   "outputs": [
    {
     "ename": "ValueError",
     "evalue": "Found input variables with inconsistent numbers of samples: [499, 443]",
     "output_type": "error",
     "traceback": [
      "\u001b[0;31m---------------------------------------------------------------------------\u001b[0m",
      "\u001b[0;31mValueError\u001b[0m                                Traceback (most recent call last)",
      "\u001b[0;32m/var/folders/xl/ftndz_9j3hn5ybffb6t5q42m0000gn/T/ipykernel_9188/3923689640.py\u001b[0m in \u001b[0;36m<module>\u001b[0;34m\u001b[0m\n\u001b[0;32m----> 1\u001b[0;31m \u001b[0mcool\u001b[0m \u001b[0;34m=\u001b[0m \u001b[0mmultilabel_confusion_matrix\u001b[0m\u001b[0;34m(\u001b[0m\u001b[0mtrue_classes\u001b[0m\u001b[0;34m,\u001b[0m \u001b[0mmodel\u001b[0m\u001b[0;34m.\u001b[0m\u001b[0mpredict\u001b[0m\u001b[0;34m(\u001b[0m\u001b[0mtest_df\u001b[0m\u001b[0;34m)\u001b[0m\u001b[0;34m)\u001b[0m\u001b[0;34m\u001b[0m\u001b[0;34m\u001b[0m\u001b[0m\n\u001b[0m",
      "\u001b[0;32m~/opt/anaconda3/envs/metis/lib/python3.8/site-packages/sklearn/utils/validation.py\u001b[0m in \u001b[0;36minner_f\u001b[0;34m(*args, **kwargs)\u001b[0m\n\u001b[1;32m     61\u001b[0m             \u001b[0mextra_args\u001b[0m \u001b[0;34m=\u001b[0m \u001b[0mlen\u001b[0m\u001b[0;34m(\u001b[0m\u001b[0margs\u001b[0m\u001b[0;34m)\u001b[0m \u001b[0;34m-\u001b[0m \u001b[0mlen\u001b[0m\u001b[0;34m(\u001b[0m\u001b[0mall_args\u001b[0m\u001b[0;34m)\u001b[0m\u001b[0;34m\u001b[0m\u001b[0;34m\u001b[0m\u001b[0m\n\u001b[1;32m     62\u001b[0m             \u001b[0;32mif\u001b[0m \u001b[0mextra_args\u001b[0m \u001b[0;34m<=\u001b[0m \u001b[0;36m0\u001b[0m\u001b[0;34m:\u001b[0m\u001b[0;34m\u001b[0m\u001b[0;34m\u001b[0m\u001b[0m\n\u001b[0;32m---> 63\u001b[0;31m                 \u001b[0;32mreturn\u001b[0m \u001b[0mf\u001b[0m\u001b[0;34m(\u001b[0m\u001b[0;34m*\u001b[0m\u001b[0margs\u001b[0m\u001b[0;34m,\u001b[0m \u001b[0;34m**\u001b[0m\u001b[0mkwargs\u001b[0m\u001b[0;34m)\u001b[0m\u001b[0;34m\u001b[0m\u001b[0;34m\u001b[0m\u001b[0m\n\u001b[0m\u001b[1;32m     64\u001b[0m \u001b[0;34m\u001b[0m\u001b[0m\n\u001b[1;32m     65\u001b[0m             \u001b[0;31m# extra_args > 0\u001b[0m\u001b[0;34m\u001b[0m\u001b[0;34m\u001b[0m\u001b[0;34m\u001b[0m\u001b[0m\n",
      "\u001b[0;32m~/opt/anaconda3/envs/metis/lib/python3.8/site-packages/sklearn/metrics/_classification.py\u001b[0m in \u001b[0;36mmultilabel_confusion_matrix\u001b[0;34m(y_true, y_pred, sample_weight, labels, samplewise)\u001b[0m\n\u001b[1;32m    457\u001b[0m             [1, 2]]])\n\u001b[1;32m    458\u001b[0m     \"\"\"\n\u001b[0;32m--> 459\u001b[0;31m     \u001b[0my_type\u001b[0m\u001b[0;34m,\u001b[0m \u001b[0my_true\u001b[0m\u001b[0;34m,\u001b[0m \u001b[0my_pred\u001b[0m \u001b[0;34m=\u001b[0m \u001b[0m_check_targets\u001b[0m\u001b[0;34m(\u001b[0m\u001b[0my_true\u001b[0m\u001b[0;34m,\u001b[0m \u001b[0my_pred\u001b[0m\u001b[0;34m)\u001b[0m\u001b[0;34m\u001b[0m\u001b[0;34m\u001b[0m\u001b[0m\n\u001b[0m\u001b[1;32m    460\u001b[0m     \u001b[0;32mif\u001b[0m \u001b[0msample_weight\u001b[0m \u001b[0;32mis\u001b[0m \u001b[0;32mnot\u001b[0m \u001b[0;32mNone\u001b[0m\u001b[0;34m:\u001b[0m\u001b[0;34m\u001b[0m\u001b[0;34m\u001b[0m\u001b[0m\n\u001b[1;32m    461\u001b[0m         \u001b[0msample_weight\u001b[0m \u001b[0;34m=\u001b[0m \u001b[0mcolumn_or_1d\u001b[0m\u001b[0;34m(\u001b[0m\u001b[0msample_weight\u001b[0m\u001b[0;34m)\u001b[0m\u001b[0;34m\u001b[0m\u001b[0;34m\u001b[0m\u001b[0m\n",
      "\u001b[0;32m~/opt/anaconda3/envs/metis/lib/python3.8/site-packages/sklearn/metrics/_classification.py\u001b[0m in \u001b[0;36m_check_targets\u001b[0;34m(y_true, y_pred)\u001b[0m\n\u001b[1;32m     81\u001b[0m     \u001b[0my_pred\u001b[0m \u001b[0;34m:\u001b[0m \u001b[0marray\u001b[0m \u001b[0;32mor\u001b[0m \u001b[0mindicator\u001b[0m \u001b[0mmatrix\u001b[0m\u001b[0;34m\u001b[0m\u001b[0;34m\u001b[0m\u001b[0m\n\u001b[1;32m     82\u001b[0m     \"\"\"\n\u001b[0;32m---> 83\u001b[0;31m     \u001b[0mcheck_consistent_length\u001b[0m\u001b[0;34m(\u001b[0m\u001b[0my_true\u001b[0m\u001b[0;34m,\u001b[0m \u001b[0my_pred\u001b[0m\u001b[0;34m)\u001b[0m\u001b[0;34m\u001b[0m\u001b[0;34m\u001b[0m\u001b[0m\n\u001b[0m\u001b[1;32m     84\u001b[0m     \u001b[0mtype_true\u001b[0m \u001b[0;34m=\u001b[0m \u001b[0mtype_of_target\u001b[0m\u001b[0;34m(\u001b[0m\u001b[0my_true\u001b[0m\u001b[0;34m)\u001b[0m\u001b[0;34m\u001b[0m\u001b[0;34m\u001b[0m\u001b[0m\n\u001b[1;32m     85\u001b[0m     \u001b[0mtype_pred\u001b[0m \u001b[0;34m=\u001b[0m \u001b[0mtype_of_target\u001b[0m\u001b[0;34m(\u001b[0m\u001b[0my_pred\u001b[0m\u001b[0;34m)\u001b[0m\u001b[0;34m\u001b[0m\u001b[0;34m\u001b[0m\u001b[0m\n",
      "\u001b[0;32m~/opt/anaconda3/envs/metis/lib/python3.8/site-packages/sklearn/utils/validation.py\u001b[0m in \u001b[0;36mcheck_consistent_length\u001b[0;34m(*arrays)\u001b[0m\n\u001b[1;32m    317\u001b[0m     \u001b[0muniques\u001b[0m \u001b[0;34m=\u001b[0m \u001b[0mnp\u001b[0m\u001b[0;34m.\u001b[0m\u001b[0munique\u001b[0m\u001b[0;34m(\u001b[0m\u001b[0mlengths\u001b[0m\u001b[0;34m)\u001b[0m\u001b[0;34m\u001b[0m\u001b[0;34m\u001b[0m\u001b[0m\n\u001b[1;32m    318\u001b[0m     \u001b[0;32mif\u001b[0m \u001b[0mlen\u001b[0m\u001b[0;34m(\u001b[0m\u001b[0muniques\u001b[0m\u001b[0;34m)\u001b[0m \u001b[0;34m>\u001b[0m \u001b[0;36m1\u001b[0m\u001b[0;34m:\u001b[0m\u001b[0;34m\u001b[0m\u001b[0;34m\u001b[0m\u001b[0m\n\u001b[0;32m--> 319\u001b[0;31m         raise ValueError(\"Found input variables with inconsistent numbers of\"\n\u001b[0m\u001b[1;32m    320\u001b[0m                          \" samples: %r\" % [int(l) for l in lengths])\n\u001b[1;32m    321\u001b[0m \u001b[0;34m\u001b[0m\u001b[0m\n",
      "\u001b[0;31mValueError\u001b[0m: Found input variables with inconsistent numbers of samples: [499, 443]"
     ]
    }
   ],
   "source": [
    "cool = multilabel_confusion_matrix(true_classes, model.predict(test_df))"
   ]
  },
  {
   "cell_type": "code",
   "execution_count": 43,
   "id": "edd0f430-fc20-4d85-aab2-cf2a0ead26cd",
   "metadata": {},
   "outputs": [
    {
     "data": {
      "text/plain": [
       "499"
      ]
     },
     "execution_count": 43,
     "metadata": {},
     "output_type": "execute_result"
    }
   ],
   "source": [
    "flow_testdf"
   ]
  },
  {
   "cell_type": "code",
   "execution_count": 47,
   "id": "332cf3de-547e-4bb3-98d4-006a1ccde2bb",
   "metadata": {},
   "outputs": [
    {
     "name": "stderr",
     "output_type": "stream",
     "text": [
      "/Users/michaelharnett/opt/anaconda3/envs/metis/lib/python3.8/site-packages/tensorflow/python/keras/engine/training.py:2001: UserWarning: `Model.predict_generator` is deprecated and will be removed in a future version. Please use `Model.predict`, which supports generators.\n",
      "  warnings.warn('`Model.predict_generator` is deprecated and '\n"
     ]
    },
    {
     "name": "stdout",
     "output_type": "stream",
     "text": [
      "WARNING:tensorflow:Your input ran out of data; interrupting training. Make sure that your dataset or generator can generate at least `steps_per_epoch * epochs` batches (in this case, 2000 batches). You may need to use the repeat() function when building your dataset.\n"
     ]
    }
   ],
   "source": [
    "\n",
    "\n",
    "probabilities = model.predict_generator(flow_testdf, 2000)"
   ]
  },
  {
   "cell_type": "code",
   "execution_count": 49,
   "id": "23088177-053e-4931-b123-61590f913159",
   "metadata": {},
   "outputs": [
    {
     "ename": "ValueError",
     "evalue": "Found input variables with inconsistent numbers of samples: [2000, 499]",
     "output_type": "error",
     "traceback": [
      "\u001b[0;31m---------------------------------------------------------------------------\u001b[0m",
      "\u001b[0;31mValueError\u001b[0m                                Traceback (most recent call last)",
      "\u001b[0;32m/var/folders/xl/ftndz_9j3hn5ybffb6t5q42m0000gn/T/ipykernel_9188/2880325846.py\u001b[0m in \u001b[0;36m<module>\u001b[0;34m\u001b[0m\n\u001b[1;32m      2\u001b[0m \u001b[0my_pred\u001b[0m \u001b[0;34m=\u001b[0m \u001b[0mprobabilities\u001b[0m \u001b[0;34m>\u001b[0m \u001b[0;36m0.5\u001b[0m\u001b[0;34m\u001b[0m\u001b[0;34m\u001b[0m\u001b[0m\n\u001b[1;32m      3\u001b[0m \u001b[0;34m\u001b[0m\u001b[0m\n\u001b[0;32m----> 4\u001b[0;31m \u001b[0mconfusion_matrix\u001b[0m\u001b[0;34m(\u001b[0m\u001b[0my_true\u001b[0m\u001b[0;34m,\u001b[0m \u001b[0my_pred\u001b[0m\u001b[0;34m)\u001b[0m\u001b[0;34m\u001b[0m\u001b[0;34m\u001b[0m\u001b[0m\n\u001b[0m",
      "\u001b[0;32m~/opt/anaconda3/envs/metis/lib/python3.8/site-packages/sklearn/utils/validation.py\u001b[0m in \u001b[0;36minner_f\u001b[0;34m(*args, **kwargs)\u001b[0m\n\u001b[1;32m     61\u001b[0m             \u001b[0mextra_args\u001b[0m \u001b[0;34m=\u001b[0m \u001b[0mlen\u001b[0m\u001b[0;34m(\u001b[0m\u001b[0margs\u001b[0m\u001b[0;34m)\u001b[0m \u001b[0;34m-\u001b[0m \u001b[0mlen\u001b[0m\u001b[0;34m(\u001b[0m\u001b[0mall_args\u001b[0m\u001b[0;34m)\u001b[0m\u001b[0;34m\u001b[0m\u001b[0;34m\u001b[0m\u001b[0m\n\u001b[1;32m     62\u001b[0m             \u001b[0;32mif\u001b[0m \u001b[0mextra_args\u001b[0m \u001b[0;34m<=\u001b[0m \u001b[0;36m0\u001b[0m\u001b[0;34m:\u001b[0m\u001b[0;34m\u001b[0m\u001b[0;34m\u001b[0m\u001b[0m\n\u001b[0;32m---> 63\u001b[0;31m                 \u001b[0;32mreturn\u001b[0m \u001b[0mf\u001b[0m\u001b[0;34m(\u001b[0m\u001b[0;34m*\u001b[0m\u001b[0margs\u001b[0m\u001b[0;34m,\u001b[0m \u001b[0;34m**\u001b[0m\u001b[0mkwargs\u001b[0m\u001b[0;34m)\u001b[0m\u001b[0;34m\u001b[0m\u001b[0;34m\u001b[0m\u001b[0m\n\u001b[0m\u001b[1;32m     64\u001b[0m \u001b[0;34m\u001b[0m\u001b[0m\n\u001b[1;32m     65\u001b[0m             \u001b[0;31m# extra_args > 0\u001b[0m\u001b[0;34m\u001b[0m\u001b[0;34m\u001b[0m\u001b[0;34m\u001b[0m\u001b[0m\n",
      "\u001b[0;32m~/opt/anaconda3/envs/metis/lib/python3.8/site-packages/sklearn/metrics/_classification.py\u001b[0m in \u001b[0;36mconfusion_matrix\u001b[0;34m(y_true, y_pred, labels, sample_weight, normalize)\u001b[0m\n\u001b[1;32m    297\u001b[0m \u001b[0;34m\u001b[0m\u001b[0m\n\u001b[1;32m    298\u001b[0m     \"\"\"\n\u001b[0;32m--> 299\u001b[0;31m     \u001b[0my_type\u001b[0m\u001b[0;34m,\u001b[0m \u001b[0my_true\u001b[0m\u001b[0;34m,\u001b[0m \u001b[0my_pred\u001b[0m \u001b[0;34m=\u001b[0m \u001b[0m_check_targets\u001b[0m\u001b[0;34m(\u001b[0m\u001b[0my_true\u001b[0m\u001b[0;34m,\u001b[0m \u001b[0my_pred\u001b[0m\u001b[0;34m)\u001b[0m\u001b[0;34m\u001b[0m\u001b[0;34m\u001b[0m\u001b[0m\n\u001b[0m\u001b[1;32m    300\u001b[0m     \u001b[0;32mif\u001b[0m \u001b[0my_type\u001b[0m \u001b[0;32mnot\u001b[0m \u001b[0;32min\u001b[0m \u001b[0;34m(\u001b[0m\u001b[0;34m\"binary\"\u001b[0m\u001b[0;34m,\u001b[0m \u001b[0;34m\"multiclass\"\u001b[0m\u001b[0;34m)\u001b[0m\u001b[0;34m:\u001b[0m\u001b[0;34m\u001b[0m\u001b[0;34m\u001b[0m\u001b[0m\n\u001b[1;32m    301\u001b[0m         \u001b[0;32mraise\u001b[0m \u001b[0mValueError\u001b[0m\u001b[0;34m(\u001b[0m\u001b[0;34m\"%s is not supported\"\u001b[0m \u001b[0;34m%\u001b[0m \u001b[0my_type\u001b[0m\u001b[0;34m)\u001b[0m\u001b[0;34m\u001b[0m\u001b[0;34m\u001b[0m\u001b[0m\n",
      "\u001b[0;32m~/opt/anaconda3/envs/metis/lib/python3.8/site-packages/sklearn/metrics/_classification.py\u001b[0m in \u001b[0;36m_check_targets\u001b[0;34m(y_true, y_pred)\u001b[0m\n\u001b[1;32m     81\u001b[0m     \u001b[0my_pred\u001b[0m \u001b[0;34m:\u001b[0m \u001b[0marray\u001b[0m \u001b[0;32mor\u001b[0m \u001b[0mindicator\u001b[0m \u001b[0mmatrix\u001b[0m\u001b[0;34m\u001b[0m\u001b[0;34m\u001b[0m\u001b[0m\n\u001b[1;32m     82\u001b[0m     \"\"\"\n\u001b[0;32m---> 83\u001b[0;31m     \u001b[0mcheck_consistent_length\u001b[0m\u001b[0;34m(\u001b[0m\u001b[0my_true\u001b[0m\u001b[0;34m,\u001b[0m \u001b[0my_pred\u001b[0m\u001b[0;34m)\u001b[0m\u001b[0;34m\u001b[0m\u001b[0;34m\u001b[0m\u001b[0m\n\u001b[0m\u001b[1;32m     84\u001b[0m     \u001b[0mtype_true\u001b[0m \u001b[0;34m=\u001b[0m \u001b[0mtype_of_target\u001b[0m\u001b[0;34m(\u001b[0m\u001b[0my_true\u001b[0m\u001b[0;34m)\u001b[0m\u001b[0;34m\u001b[0m\u001b[0;34m\u001b[0m\u001b[0m\n\u001b[1;32m     85\u001b[0m     \u001b[0mtype_pred\u001b[0m \u001b[0;34m=\u001b[0m \u001b[0mtype_of_target\u001b[0m\u001b[0;34m(\u001b[0m\u001b[0my_pred\u001b[0m\u001b[0;34m)\u001b[0m\u001b[0;34m\u001b[0m\u001b[0;34m\u001b[0m\u001b[0m\n",
      "\u001b[0;32m~/opt/anaconda3/envs/metis/lib/python3.8/site-packages/sklearn/utils/validation.py\u001b[0m in \u001b[0;36mcheck_consistent_length\u001b[0;34m(*arrays)\u001b[0m\n\u001b[1;32m    317\u001b[0m     \u001b[0muniques\u001b[0m \u001b[0;34m=\u001b[0m \u001b[0mnp\u001b[0m\u001b[0;34m.\u001b[0m\u001b[0munique\u001b[0m\u001b[0;34m(\u001b[0m\u001b[0mlengths\u001b[0m\u001b[0;34m)\u001b[0m\u001b[0;34m\u001b[0m\u001b[0;34m\u001b[0m\u001b[0m\n\u001b[1;32m    318\u001b[0m     \u001b[0;32mif\u001b[0m \u001b[0mlen\u001b[0m\u001b[0;34m(\u001b[0m\u001b[0muniques\u001b[0m\u001b[0;34m)\u001b[0m \u001b[0;34m>\u001b[0m \u001b[0;36m1\u001b[0m\u001b[0;34m:\u001b[0m\u001b[0;34m\u001b[0m\u001b[0;34m\u001b[0m\u001b[0m\n\u001b[0;32m--> 319\u001b[0;31m         raise ValueError(\"Found input variables with inconsistent numbers of\"\n\u001b[0m\u001b[1;32m    320\u001b[0m                          \" samples: %r\" % [int(l) for l in lengths])\n\u001b[1;32m    321\u001b[0m \u001b[0;34m\u001b[0m\u001b[0m\n",
      "\u001b[0;31mValueError\u001b[0m: Found input variables with inconsistent numbers of samples: [2000, 499]"
     ]
    }
   ],
   "source": [
    "y_true = np.array([0] * 1000 + [1] * 1000)\n",
    "y_pred = probabilities > 0.5\n",
    "\n",
    "confusion_matrix(y_true, y_pred)"
   ]
  },
  {
   "cell_type": "code",
   "execution_count": null,
   "id": "7820d0cb-eb87-414a-988d-9153dd83e00c",
   "metadata": {},
   "outputs": [],
   "source": []
  }
 ],
 "metadata": {
  "kernelspec": {
   "display_name": "Python [conda env:metis] *",
   "language": "python",
   "name": "conda-env-metis-py"
  },
  "language_info": {
   "codemirror_mode": {
    "name": "ipython",
    "version": 3
   },
   "file_extension": ".py",
   "mimetype": "text/x-python",
   "name": "python",
   "nbconvert_exporter": "python",
   "pygments_lexer": "ipython3",
   "version": "3.8.10"
  }
 },
 "nbformat": 4,
 "nbformat_minor": 5
}
